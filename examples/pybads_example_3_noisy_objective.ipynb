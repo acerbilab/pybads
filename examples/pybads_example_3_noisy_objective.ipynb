{
 "cells": [
  {
   "cell_type": "markdown",
   "id": "e48db32f",
   "metadata": {},
   "source": [
    "# PyBADS Example 3: Noisy objective function"
   ]
  },
  {
   "cell_type": "markdown",
   "id": "810b5d8b",
   "metadata": {},
   "source": [
    "In this example, we will show how to run PyBADS on a noisy target.\n",
    "\n",
    "This notebook is Part 3 of a series of notebooks in which we present various example usages for BADS with the PyBADS package."
   ]
  },
  {
   "cell_type": "code",
   "execution_count": 1,
   "id": "d0c7306b",
   "metadata": {},
   "outputs": [],
   "source": [
    "import numpy as np\n",
    "from pybads.bads.bads import BADS"
   ]
  },
  {
   "cell_type": "markdown",
   "id": "18652cfa",
   "metadata": {},
   "source": [
    "## 0. Noisy optimization\n",
    "\n",
    "PyBADS is able to optimize also *noisy* objective functions. A noisy (or stochastic) objective function is an objective that will return different results if evaluated twice at the same point $\\mathbf{x}$. Conversely, a non-noisy objective function is known as noiseless or deterministic. For example, noisy objectives are common in model fitting when the model is evaluated through simulation (e.g., via sampling aka Monte Carlo methods).\n",
    "\n",
    "For a noisy objective, PyBADS attempts to minimize the *expected value* of $f(\\mathbf{x})$,\n",
    "$$\n",
    "\\mathbf{x}^\\star = \\arg\\min_{\\mathbf{x} \\in \\mathcal{X} \\subseteq \\mathbb{R}^D} \\mathbb{E}\\left[f(\\mathbf{x})\\right].\n",
    "$$"
   ]
  },
  {
   "cell_type": "markdown",
   "id": "fccd1931",
   "metadata": {},
   "source": [
    "## 1. Problem setup\n",
    "\n",
    "For this example, we take as target a quadratic function and we add i.i.d. Gaussian noise to it (*noisy sphere*). In a real case, the noise would arise from some stochastic process in the calculation of the target.\n",
    "\n",
    "We also set here several `options` for the optimization:\n",
    "\n",
    "- We tell `bads` that the target is noisy by activating the `uncertainty_handling` option. This is not strictly needed, as `bads` can automatically detect if a target is noisy, but it is good practice to specify.\n",
    "- We also limit the number of function evaluations with `max_fun_evals`, knowing that this is a simple example. Generally, `bads` will tend to run for longer on noisy problems to better explore the noisy landscape.\n",
    "- Finally, we tell `bads` to re-evaluate the target at the returned solution with 100 samples via `noise_final_samples` (by default, `noise_final_samples = 10`, but since our function is inexpensive we can use more evaluations). These evaluations count towards the total budget of function evaluations `max_fun_evals`."
   ]
  },
  {
   "cell_type": "code",
   "execution_count": 2,
   "id": "192fbe30",
   "metadata": {},
   "outputs": [],
   "source": [
    "def noisy_sphere(x,sigma=1.0):\n",
    "    \"\"\"Simple quadratic function with added noise.\"\"\"\n",
    "    x_2d = np.atleast_2d(x)\n",
    "    f = np.sum(x_2d**2, axis=1)\n",
    "    noise = sigma*np.random.normal(size=x_2d.shape[0])\n",
    "    return f + noise\n",
    "\n",
    "x0 = np.array([[-3, -3]]);      # Starting point\n",
    "lb = np.array([[-5, -5]])       # Lower bounds\n",
    "ub = np.array([[5, 5]])         # Upper bounds\n",
    "plb = np.array([[-2, -2]])      # Plausible lower bounds\n",
    "pub = np.array([[2, 2]])        # Plausible upper bounds\n",
    "\n",
    "options = {\n",
    "    \"uncertainty_handling\": True,\n",
    "    \"max_fun_evals\": 300,\n",
    "    \"noise_final_samples\": 100\n",
    "}"
   ]
  },
  {
   "cell_type": "markdown",
   "id": "363e280e",
   "metadata": {},
   "source": [
    "## 2. Run the optimization\n",
    "\n",
    "We run `bads` with the user-defined `options`."
   ]
  },
  {
   "cell_type": "code",
   "execution_count": 3,
   "id": "853bf3c9",
   "metadata": {},
   "outputs": [
    {
     "name": "stdout",
     "output_type": "stream",
     "text": [
      "Beginning optimization of a STOCHASTIC objective function\n",
      "\n",
      " Iteration f-count     E[f(x)]     SD[f(x)]     MeshScale     Method     Actions\n",
      "     0         1      17.459241           nan      1.000000            \n",
      "     0        33      -0.212765           nan      1.000000     Initial mesh       Initial points\n",
      "     0        37      -0.212765      1.000000      0.500000     Refine grid       Train\n",
      "     1        38      -0.245636      0.398982      0.500000     Incremental search (('ES-wcm', 1))       \n",
      "     1        45      -0.245636      0.398982      0.250000     Refine grid       Train\n",
      "     2        53       0.103467      0.299136      0.125000     Refine grid       Train\n",
      "     3        54       0.178426      0.252256      0.125000     Successful search (('ES-ell', 1))       \n",
      "     3        55       0.098941      0.244448      0.125000     Successful search (('ES-ell', 1))       \n",
      "     3        58       0.092911      0.213598      0.125000     Incremental search (('ES-ell', 1))       \n",
      "     3        60       0.002040      0.204293      0.125000     Successful search (('ES-wcm', 1))       \n",
      "     3        65      -0.009027      0.183590      0.125000     Incremental search (('ES-wcm', 1))       \n",
      "     3        69      -0.009027      0.183590      0.062500     Refine grid       Train\n",
      "     4        73      -0.019243      0.177646      0.062500     Successful search (('ES-ell', 1))       \n",
      "     4        81      -0.019243      0.177646      0.031250     Refine grid       Train\n",
      "     5        84       0.142140      0.151935      0.031250     Successful search (('ES-ell', 1))       \n",
      "     5        85       0.136571      0.150895      0.031250     Successful search (('ES-ell', 1))       \n",
      "     5        86       0.127301      0.149539      0.031250     Successful search (('ES-ell', 1))       \n",
      "     5        87       0.111940      0.148448      0.031250     Successful search (('ES-ell', 1))       \n",
      "     5        97       0.111940      0.148448      0.015625     Refine grid       \n",
      "     6        98       0.143064      0.133833      0.015625     Successful search (('ES-ell', 1))       \n",
      "     6       102       0.126881      0.136527      0.015625     Successful search (('ES-ell', 1))       \n",
      "     6       103       0.115703      0.142645      0.015625     Successful search (('ES-ell', 1))       \n",
      "     6       105       0.098469      0.142845      0.015625     Successful search (('ES-ell', 1))       \n",
      "     6       107       0.098090      0.145548      0.015625     Incremental search (('ES-wcm', 1))       \n",
      "     6       109       0.063046      0.143673      0.015625     Successful search (('ES-wcm', 1))       \n",
      "     6       117       0.004290      0.140043      0.031250     Successful poll       \n",
      "     7       125       0.018898      0.118207      0.015625     Refine grid       Train\n",
      "     8       128       0.037615      0.120752      0.015625     Incremental search (('ES-wcm', 1))       \n",
      "     8       133      -0.033874      0.113409      0.031250     Successful poll       Train\n",
      "     9       141      -0.033874      0.113409      0.015625     Refine grid       Train\n",
      "    10       149      -0.009780      0.104250      0.031250     Successful poll       Train\n",
      "    11       152      -0.017133      0.114705      0.031250     Successful search (('ES-wcm', 1))       \n",
      "    11       161      -0.017133      0.114705      0.015625     Refine grid       \n",
      "    12       169      -0.004634      0.098531      0.007812     Refine grid       Train\n",
      "    13       170      -0.005847      0.096196      0.007812     Successful search (('ES-ell', 1))       \n",
      "    13       174      -0.014915      0.099318      0.007812     Successful search (('ES-ell', 1))       \n",
      "    13       176      -0.031195      0.107041      0.007812     Successful search (('ES-ell', 1))       \n",
      "    13       179      -0.031301      0.114397      0.007812     Incremental search (('ES-ell', 1))       \n",
      "    13       181      -0.033335      0.124501      0.007812     Successful search (('ES-ell', 1))       \n",
      "    13       183      -0.037234      0.130949      0.007812     Successful search (('ES-ell', 1))       \n",
      "    13       189      -0.042140      0.127496      0.007812     Successful search (('ES-ell', 1))       \n",
      "    13       197      -0.042140      0.127496      0.003906     Refine grid       \n",
      "    14       198      -0.048981      0.086690      0.003906     Successful search (('ES-ell', 1))       \n",
      "Optimization terminated: reached maximum number of function evaluations options.max_fun_evals.\n",
      "Estimated function value at minimum: -0.03352851842060265 ± 0.1088118260512118 (mean ± SEM from 100 samples)\n"
     ]
    }
   ],
   "source": [
    "bads = BADS(noisy_sphere, x0, lb, ub, plb, pub, options=options)\n",
    "optimize_result = bads.optimize()"
   ]
  },
  {
   "cell_type": "markdown",
   "id": "4a7af7d8",
   "metadata": {},
   "source": [
    "## 3. Results and conclusions\n",
    "\n",
    "First, note that in this case `optimize_result['fval']` is the *estimated* function value at `optimize_result['x']`, obtained by taking the mean of `options['noise_final_samples']` target evaluations (`noise_final_samples = 10` by default, but here we used 100). The uncertainty of the value of the function at the returned solution, `optimize_result['fsd']`, is the [standard error](https://en.wikipedia.org/wiki/Standard_error) of the mean.\n",
    "\n",
    "If needed, the final samples used to estimate `fval` and `fsd` can be found in `optimize_result['yval_vec']`."
   ]
  },
  {
   "cell_type": "code",
   "execution_count": 4,
   "id": "6507b31a",
   "metadata": {},
   "outputs": [
    {
     "name": "stdout",
     "output_type": "stream",
     "text": [
      "BADS minimum at: x_min = [-0.09576321  0.09436703], fval (estimated) = -0.03353 +/- 0.11\n",
      "total f-count: 300, time: 7.9 s\n",
      "final evaluations (shape): (100,)\n"
     ]
    }
   ],
   "source": [
    "x_min = optimize_result['x']\n",
    "fval = optimize_result['fval']\n",
    "fsd = optimize_result['fsd']\n",
    "\n",
    "print(f\"BADS minimum at: x_min = {x_min.flatten()}, fval (estimated) = {fval:.4g} +/- {fsd:.2g}\")\n",
    "print(f\"total f-count: {optimize_result['func_count']}, time: {round(optimize_result['total_time'], 2)} s\")\n",
    "print(f\"final evaluations (shape): {optimize_result['yval_vec'].shape}\")"
   ]
  },
  {
   "cell_type": "markdown",
   "id": "499c04d1",
   "metadata": {},
   "source": [
    "We can also check the ground-truth value of the target function at the returned point once we remove the noise:"
   ]
  },
  {
   "cell_type": "code",
   "execution_count": 5,
   "id": "17089c5d",
   "metadata": {},
   "outputs": [
    {
     "name": "stdout",
     "output_type": "stream",
     "text": [
      "The true, noiseless value of f(x_min) is 0.0181.\n"
     ]
    }
   ],
   "source": [
    "print(f\"The true, noiseless value of f(x_min) is {noisy_sphere(x_min,sigma=0)[0]:.3g}.\")"
   ]
  },
  {
   "cell_type": "markdown",
   "id": "d3ace561",
   "metadata": {},
   "source": [
    "Compare this to the true global minimum of the sphere function at $\\textbf{x}^\\star = [0,0]$, where $f^\\star = 0$."
   ]
  },
  {
   "cell_type": "markdown",
   "id": "dfcef7ec",
   "metadata": {},
   "source": [
    "### Remarks\n",
    "    \n",
    "- While PyBADS can handle noisy targets, it cannot handle arbitrarily large noise.\n",
    "\n",
    "- PyBADS will work best if the *standard deviation* of the objective function $\\sigma$, when evaluated in the vicinity of the global solution, is small with respect to changes in the objective function itself (that is, there is a good signal-to-noise ratio). In many cases, $\\sigma \\approx 1$ or less should work (this is the default assumption). If you approximately know the magnitude of the noise in the vicinity of the solution, you can help BADS by specifying it in advance (set `options[\"noise_size\"] = sigma_est`, where `sigma_est` is your estimate of the standard deviation).\n",
    "\n",
    "- If the noise around the solution is too large, PyBADS will perform poorly. In that case, we recommend to increase the precision of your computation of the objective (e.g., by drawing more Monte Carlo samples) such that $\\sigma \\approx 1$ or even lower, as needed by your problem. Note that the noise farther away from the solution can be larger, and this is usually okay.\n",
    "\n",
    "- In this example, we assumed the amount of noise in each target evaluation is unknown. If instead you *can* estimate the magnitude of the noise for each evaluation, see the next example.\n",
    "\n",
    "- For more information on optimizing noisy objective functions, see the BADS wiki: https://github.com/acerbilab/bads/wiki#noisy-objective-function (this link points to the MATLAB wiki, but many of the questions and answers apply to PyBADS as well).\n"
   ]
  },
  {
   "cell_type": "markdown",
   "id": "83320a21",
   "metadata": {},
   "source": [
    "## Example 3: Full code\n",
    "\n",
    "See [here](./src/pybads_example_3_noisy_objective.py) for a Python file with the code used in this example, with no extra fluff."
   ]
  }
 ],
 "metadata": {
  "kernelspec": {
   "display_name": "Python 3 (ipykernel)",
   "language": "python",
   "name": "python3"
  },
  "language_info": {
   "codemirror_mode": {
    "name": "ipython",
    "version": 3
   },
   "file_extension": ".py",
   "mimetype": "text/x-python",
   "name": "python",
   "nbconvert_exporter": "python",
   "pygments_lexer": "ipython3",
   "version": "3.9.7"
  }
 },
 "nbformat": 4,
 "nbformat_minor": 5
}
