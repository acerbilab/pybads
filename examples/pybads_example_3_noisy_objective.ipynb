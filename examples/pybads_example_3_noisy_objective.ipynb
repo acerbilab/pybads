{
 "cells": [
  {
   "cell_type": "markdown",
   "id": "e48db32f",
   "metadata": {},
   "source": [
    "# PyBADS Example 3: Noisy objective function"
   ]
  },
  {
   "cell_type": "markdown",
   "id": "810b5d8b",
   "metadata": {},
   "source": [
    "In this example, we will show how to run PyBADS on a noisy target.\n",
    "\n",
    "This notebook is Part 3 of a series of notebooks in which we present various example usages for BADS with the PyBADS package."
   ]
  },
  {
   "cell_type": "code",
   "execution_count": 1,
   "id": "d0c7306b",
   "metadata": {},
   "outputs": [],
   "source": [
    "import numpy as np\n",
    "from pybads.bads.bads import BADS"
   ]
  },
  {
   "cell_type": "markdown",
   "id": "18652cfa",
   "metadata": {},
   "source": [
    "## 0. Noisy optimization\n",
    "\n",
    "PyBADS is able to optimize also *noisy* objective functions. A noisy (or stochastic) objective function is an objective that will return different results if evaluated twice at the same point $\\mathbf{x}$. Conversely, a non-noisy objective function is known as noiseless or deterministic. For example, noisy objectives are common in model fitting when the model is evaluated through simulation (e.g., via sampling aka Monte Carlo methods).\n",
    "\n",
    "For a noisy objective, PyBADS attempts to minimize the *expected value* of $f(\\mathbf{x})$,\n",
    "$$\n",
    "\\mathbf{x}^\\star = \\arg\\min_{\\mathbf{x} \\in \\mathcal{X} \\subseteq \\mathbb{R}^D} \\mathbb{E}\\left[f(\\mathbf{x})\\right].\n",
    "$$"
   ]
  },
  {
   "cell_type": "markdown",
   "id": "fccd1931",
   "metadata": {},
   "source": [
    "## 1. Problem definition\n",
    "\n",
    "We optimize [Rosenbrock's banana function](https://en.wikipedia.org/wiki/Rosenbrock_function) in 2D as in the [previous example](./pybads_example_1_basic_usage.ipynb), but here we force the input to stay within a circle with unit radius.\n",
    "\n",
    "Since we know the optimization region, we set tight box bounds `lb` and `ub` around it to further help the search.\n",
    "\n",
    "Note that `nonbndcons` is a function that defines constraints *violation*. Specifically, it takes as input a $M$-by-$D$ array $\\mathbf{x}_1, \\ldots, \\mathbf{x}_M$, where each $\\mathbf{x} \\in \\mathbb{R}^D$, and outputs a $M$-by-1 `bool` array. The $m$-th value of the output array is `True` if $\\mathbf{x}_m$ violates the constraint, `False` otherwise."
   ]
  },
  {
   "cell_type": "code",
   "execution_count": 2,
   "id": "192fbe30",
   "metadata": {},
   "outputs": [],
   "source": [
    "def noisy_quadratic_fcn(x):\n",
    "    \"\"\"Simple quadratic function with added noise.\"\"\"\n",
    "    x_2d = np.atleast_2d(x)\n",
    "    return np.sum(100 * (x_2d[:, 0:-1]**2 - x_2d[:, 1:])**2 + (x_2d[:, 0:-1]-1)**2, axis=1)\n",
    "\n",
    "x0 = np.array([[-3, -3]]);      # Starting point\n",
    "lb = np.array([[-5, -5]])       # Lower bounds\n",
    "ub = np.array([[5, 5]])         # Upper bounds\n",
    "plb = np.array([[-2, -2]])      # Plausible lower bounds\n",
    "pub = np.array([[2, 2]])        # Plausible upper bounds\n",
    "\n",
    "\n",
    "def circle_constr(x):\n",
    "    \"\"\"Return constraints violation outside the unit circle.\"\"\"\n",
    "    x_2d = np.atleast_2d(x)\n",
    "    # Note that nonboxcons assumes the function takes a 2D input \n",
    "    return np.sum(x_2d**2, axis=1) > 1"
   ]
  },
  {
   "cell_type": "markdown",
   "id": "363e280e",
   "metadata": {},
   "source": [
    "## 2. Run the optimization\n",
    "\n",
    "We initialize `bads` with the non-box constraints defined by `nonboxcons`. Note that we also still specify standard box constraints `lb` and `ub`, as this will help the search.\n",
    "\n",
    "Incidentally, BADS will complain because the plausible bounds are not specified explicitly. In the absence of plausible bounds, BADS will create them based on the lower/upper bounds instead. Generally, you should specify the plausible bounds."
   ]
  },
  {
   "cell_type": "code",
   "execution_count": 3,
   "id": "853bf3c9",
   "metadata": {},
   "outputs": [
    {
     "name": "stdout",
     "output_type": "stream",
     "text": [
      "bads:TooCloseBounds: For each variable, hard and plausible bounds should not be too close. Moving plausible bounds.\n",
      "Variables (index) defined with periodic boundaries: []\n",
      "Beginning optimization of a DETERMINISTIC objective function\n",
      "\n",
      " Iteration f-count     f(x)     MeshScale     Method     Actions\n",
      "     0         3       1.000000      1.000000            Uncertainty test\n",
      "     0         7       1.000000      1.000000     Initial mesh       Initial points\n"
     ]
    },
    {
     "name": "stderr",
     "output_type": "stream",
     "text": [
      "c:\\users\\luigi\\documents\\github\\gpyreg\\gpyreg\\covariance_functions.py:376: RuntimeWarning: invalid value encountered in add\n",
      "  plausible_lower_bounds[i_nan] + plausible_upper_bounds[i_nan]\n"
     ]
    },
    {
     "name": "stdout",
     "output_type": "stream",
     "text": [
      "     0        11       1.000000      0.500000     Refine grid       Train\n",
      "     1        15       0.652949      0.500000     Incremental search (('ES-wcm', 1))       \n",
      "     1        19       0.652949      0.250000     Refine grid       Train\n",
      "     2        20       0.280228      0.250000     Successful search (('ES-wcm', 1))       \n",
      "     2        21       0.008201      0.250000     Successful search (('ES-wcm', 1))       \n",
      "     2        22       0.000000      0.250000     Incremental search (('ES-ell', 1))       \n",
      "     2        29       0.000000      0.125000     Refine grid       \n",
      "     3        35       0.000000      0.062500     Refine grid       \n",
      "     4        37       0.000000      0.062500     Incremental search (('ES-wcm', 1))       \n"
     ]
    },
    {
     "name": "stderr",
     "output_type": "stream",
     "text": [
      "c:\\users\\luigi\\documents\\github\\pybads\\pybads\\bads\\bads.py:1760: RuntimeWarning: divide by zero encountered in true_divide\n",
      "  zscore = zscore / gp_ys\n"
     ]
    },
    {
     "name": "stdout",
     "output_type": "stream",
     "text": [
      "bads:_robust_gp_fit_: posterior GP update failed. Singular matrix for L Cholesky decomposition\n",
      "bads:_robust_gp_fit_: posterior GP update failed. Singular matrix for L Cholesky decomposition\n",
      "     4        41       0.000000      0.031250     Refine grid       Train\n",
      "bads: The optimization is stalling, decreasing further the mesh size\n",
      "     5        47       0.000000      0.007812     Refine grid       Train\n",
      "bads:_robust_gp_fit_: posterior GP update failed. Singular matrix for L Cholesky decomposition\n",
      "bads:_robust_gp_fit_: posterior GP update failed. Singular matrix for L Cholesky decomposition\n",
      "bads: The optimization is stalling, decreasing further the mesh size\n",
      "     6        53       0.000000      0.001953     Refine grid       Train\n",
      "Optimization terminated: change in the function value less than options.TolFun.\n",
      "Function value at minimum: 5.839503487943903e-08\n",
      "\n"
     ]
    }
   ],
   "source": [
    "bads = BADS(rosenbrocks_fcn, x0, lb, ub, None, None, nonbondcons=circle_constr)\n",
    "x_min, fval = bads.optimize()"
   ]
  },
  {
   "cell_type": "markdown",
   "id": "4a7af7d8",
   "metadata": {},
   "source": [
    "## 3. Results and conclusions"
   ]
  },
  {
   "cell_type": "code",
   "execution_count": 4,
   "id": "6507b31a",
   "metadata": {},
   "outputs": [
    {
     "name": "stdout",
     "output_type": "stream",
     "text": [
      "BADS minimum at: x = [0.99998729 0.99999871], fval = 5.84e-08\n",
      "total f-count: 53, time: 5.25 s\n"
     ]
    }
   ],
   "source": [
    "print(f\"BADS minimum at: x = {x_min.flatten()}, fval = {fval:.4g}\")\n",
    "print(f\"total f-count: {bads.function_logger.func_count-1}, time: {round(bads.optim_state['total_time'], 2)} s\")"
   ]
  },
  {
   "cell_type": "markdown",
   "id": "d3ace561",
   "metadata": {},
   "source": [
    "The true global minimum of the Rosenbrock function under these constraints is at $\\textbf{x}^\\star_\\text{min} = [0.786,0.618]$, where $f^\\star_\\text{min} = 0.046$.\n",
    "\n",
    "*Note*: While in theory `nonboxcons` can receive any arbitrary constraints, in practice PyBADS will likely work well only within relatively simple domains (e.g., simple convex regions), as the current version of (Py)BADS uses a simple heuristic to reject samples outside the admissible region."
   ]
  },
  {
   "cell_type": "markdown",
   "id": "83320a21",
   "metadata": {},
   "source": [
    "## Example 2: Full code\n",
    "\n",
    "See [here](./src/pybads_example_2_nonbox_constraints.py) for a Python file with the code used in this example, with no extra fluff."
   ]
  },
  {
   "cell_type": "code",
   "execution_count": null,
   "id": "fc07d3be",
   "metadata": {},
   "outputs": [],
   "source": [
    "import numpy as np\n",
    "from pybads.bads.bads import BADS\n",
    "from pybads.bads.bads_dump import BADSDump\n",
    "from pybads.function_examples import quadratic_unknown_noisy_fcn, quadratic_noisy_fcn, extra_noisy_quadratic_fcn\n",
    "\n",
    "x0 = np.array([[-3, -3]]);        # Starting point\n",
    "lb = np.array([[-5, -5]])     # Lower bounds\n",
    "ub = np.array([[5, 5]])       # Upper bounds\n",
    "plb = np.array([[-2, -2]])      # Plausible lower bounds\n",
    "pub = np.array([[2, 2]])        # Plausible upper bounds\n",
    "\n",
    "title = 'Noise objective function'\n",
    "print(\"\\n *** Example 3: \" + title)\n",
    "print(\"\\t We test BADS on a noisy quadratic function with unit Gaussian noise.\")\n",
    "# Remarks:  For testing the heteroskedastic/user noise use quadratic_noisy_fcn as input to BADS\n",
    "#           and set in basic_bads_option.ini to True uncertaintyhandling and specifytargetnoise options.\n",
    "bads = BADS(quadratic_unknown_noisy_fcn, x0, lb, ub, plb, pub)\n",
    "\n",
    "x_min, fval = bads.optimize()\n",
    "print(f\"BADS minimum at: \\n\\n\\t x = {x_min.flatten()} \\n\\t fval= {fval} \\n\\t \\\n",
    "    total time: {round(bads.optim_state['total_time'], 2)} s \\n overhead: {round(bads.optim_state['overhead'], 2)}\")\n",
    "x_global_min = np.array([0., 0.])\n",
    "print(f\"The true, noiseless minimum is at x = {np.sum(x_min**2)} \\n\")\n",
    "print(f\"The true global minimum is at x = [0, 0], where fval = 0\\n\")\n",
    "\n",
    "bads_dump = BADSDump(\"stobads_noise\")\n",
    "bads_dump.to_JSON(bads.x, bads.u, bads.fval, bads.fsd, bads.iteration_history,\n",
    "            x_global_min)\n",
    "\n",
    "extra_noise = True\n",
    "if extra_noise:\n",
    "    title = 'Extra Noise objective function'\n",
    "    print(\"\\n *** Example 4: \" + title)\n",
    "    print(\"\\t We test BADS on a particularly noisy function.\")\n",
    "    bads = BADS(extra_noisy_quadratic_fcn, x0, lb, ub, plb, pub)\n",
    "    x_min, fval = bads.optimize()\n",
    "    print(f\"BADS minimum at: \\n\\n\\t x = {x_min.flatten()} \\n\\t fval= {fval} \\n\\t \\\n",
    "    total time: {round(bads.optim_state['total_time'], 2)} s \\n overhead: {round(bads.optim_state['overhead'], 2)}\")\n",
    "    print(f\"The true global minimum is at x = [1, 1], where fval = 0\\n\")"
   ]
  }
 ],
 "metadata": {
  "kernelspec": {
   "display_name": "Python 3 (ipykernel)",
   "language": "python",
   "name": "python3"
  },
  "language_info": {
   "codemirror_mode": {
    "name": "ipython",
    "version": 3
   },
   "file_extension": ".py",
   "mimetype": "text/x-python",
   "name": "python",
   "nbconvert_exporter": "python",
   "pygments_lexer": "ipython3",
   "version": "3.9.7"
  }
 },
 "nbformat": 4,
 "nbformat_minor": 5
}
