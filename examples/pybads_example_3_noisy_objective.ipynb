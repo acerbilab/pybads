{
 "cells": [
  {
   "cell_type": "markdown",
   "id": "e48db32f",
   "metadata": {},
   "source": [
    "# PyBADS Example 3: Noisy objective function"
   ]
  },
  {
   "cell_type": "markdown",
   "id": "810b5d8b",
   "metadata": {},
   "source": [
    "In this example, we will show how to run PyBADS on a noisy target.\n",
    "\n",
    "This notebook is Part 3 of a series of notebooks in which we present various example usages for BADS with the PyBADS package."
   ]
  },
  {
   "cell_type": "code",
   "execution_count": 1,
   "id": "d0c7306b",
   "metadata": {},
   "outputs": [],
   "source": [
    "import numpy as np\n",
    "from pybads.bads.bads import BADS"
   ]
  },
  {
   "cell_type": "markdown",
   "id": "18652cfa",
   "metadata": {},
   "source": [
    "## 0. Noisy optimization\n",
    "\n",
    "PyBADS is able to optimize also *noisy* objective functions. A noisy (or stochastic) objective function is an objective that will return different results if evaluated twice at the same point $\\mathbf{x}$. Conversely, a non-noisy objective function is known as noiseless or deterministic. For example, noisy objectives are common in model fitting when the model is evaluated through simulation (e.g., via sampling aka Monte Carlo methods).\n",
    "\n",
    "For a noisy objective, PyBADS attempts to minimize the *expected value* of $f(\\mathbf{x})$,\n",
    "$$\n",
    "\\mathbf{x}^\\star = \\arg\\min_{\\mathbf{x} \\in \\mathcal{X} \\subseteq \\mathbb{R}^D} \\mathbb{E}\\left[f(\\mathbf{x})\\right].\n",
    "$$"
   ]
  },
  {
   "cell_type": "markdown",
   "id": "fccd1931",
   "metadata": {},
   "source": [
    "## 1. Problem setup\n",
    "\n",
    "For this example, we take as target a quadratic function and we add i.i.d. Gaussian noise to it (*noisy sphere*). In a real case, the noise would arise from some stochastic process in the calculation of the target.\n",
    "\n",
    "We also set here several `options` for the optimization:\n",
    "\n",
    "- We tell `bads` that the target is noisy by activating the `uncertainty_handling` option. This is not strictly needed, as `bads` can automatically detect if a target is noisy, but it is good practice to specify.\n",
    "- We also limit the number of function evaluations with `max_fun_evals`, knowing that this is a simple example. Generally, `bads` will tend to run for longer on noisy problems to better explore the noisy landscape.\n",
    "- Finally, we tell `bads` to re-evaluate the target at the returned solution with 100 samples via `noise_final_samples` (by default, `noise_final_samples = 10`, but since our function is inexpensive we can use more evaluations). These evaluations count towards the total budget of function evaluations `max_fun_evals`."
   ]
  },
  {
   "cell_type": "code",
   "execution_count": 2,
   "id": "192fbe30",
   "metadata": {},
   "outputs": [],
   "source": [
    "def noisy_sphere(x,sigma=1.0):\n",
    "    \"\"\"Simple quadratic function with added noise.\"\"\"\n",
    "    x_2d = np.atleast_2d(x)\n",
    "    f = np.sum(x_2d**2, axis=1)\n",
    "    noise = sigma*np.random.normal(size=x_2d.shape[0])\n",
    "    return f + noise\n",
    "\n",
    "x0 = np.array([[-3, -3]]);      # Starting point\n",
    "lb = np.array([[-5, -5]])       # Lower bounds\n",
    "ub = np.array([[5, 5]])         # Upper bounds\n",
    "plb = np.array([[-2, -2]])      # Plausible lower bounds\n",
    "pub = np.array([[2, 2]])        # Plausible upper bounds\n",
    "\n",
    "options = {\n",
    "    \"uncertainty_handling\": True,\n",
    "    \"max_fun_evals\": 300,\n",
    "    \"noise_final_samples\": 100\n",
    "}"
   ]
  },
  {
   "cell_type": "markdown",
   "id": "363e280e",
   "metadata": {},
   "source": [
    "## 2. Run the optimization\n",
    "\n",
    "We run `bads` with the user-defined `options`."
   ]
  },
  {
   "cell_type": "code",
   "execution_count": 3,
   "id": "853bf3c9",
   "metadata": {},
   "outputs": [
    {
     "name": "stdout",
     "output_type": "stream",
     "text": [
      "Beginning optimization of a STOCHASTIC objective function\n",
      "\n",
      " Iteration f-count     E[f(x)]     SD[f(x)]     MeshScale     Method     Actions\n",
      "     0         1      17.043956           nan      1.000000            \n",
      "     0        33      -1.260743           nan      1.000000     Initial mesh       Initial points\n",
      "     0        37      -1.260743      1.000000      0.500000     Refine grid       Train\n",
      "     1        45      -1.260743      1.000000      0.250000     Refine grid       Train\n",
      "     2        53      -0.252820      0.409687      0.125000     Refine grid       Train\n",
      "     3        54      -0.011865      0.372887      0.125000     Successful search (('ES-ell', 1))       \n",
      "     3        59      -0.059024      0.303255      0.125000     Successful search (('ES-ell', 1))       \n",
      "     3        63      -0.097251      0.265894      0.125000     Incremental search (('ES-wcm', 1))       \n",
      "     3        64      -0.099978      0.269720      0.125000     Incremental search (('ES-wcm', 1))       \n",
      "     3        69      -0.099978      0.269720      0.062500     Refine grid       Train\n",
      "     4        70       0.014425      0.208575      0.062500     Successful search (('ES-wcm', 1))       \n",
      "     4        76       0.010969      0.200440      0.062500     Incremental search (('ES-wcm', 1))       \n",
      "     4        81      -0.012599      0.177501      0.125000     Successful poll       Train\n",
      "     5        85      -0.004946      0.175572      0.125000     Incremental search (('ES-wcm', 1))       \n",
      "     5        89      -0.004946      0.175572      0.062500     Refine grid       Train\n",
      "     6        91      -0.064888      0.164966      0.062500     Successful search (('ES-wcm', 1))       \n",
      "     6       101      -0.064888      0.164966      0.031250     Refine grid       Train\n",
      "     7       102      -0.002584      0.144601      0.031250     Incremental search (('ES-wcm', 1))       \n",
      "     7       109      -0.002584      0.144601      0.015625     Refine grid       \n",
      "     8       110       0.001471      0.134289      0.015625     Successful search (('ES-wcm', 1))       \n",
      "     8       113       0.001190      0.133722      0.015625     Incremental search (('ES-wcm', 1))       \n",
      "     8       115      -0.010657      0.131533      0.015625     Successful search (('ES-wcm', 1))       \n",
      "     8       118      -0.015659      0.129221      0.015625     Successful search (('ES-ell', 1))       \n",
      "     8       129      -0.015659      0.129221      0.007812     Refine grid       \n",
      "     9       137       0.012770      0.115109      0.015625     Successful poll       Train\n",
      "    10       138       0.015628      0.112504      0.015625     Successful search (('ES-wcm', 1))       \n",
      "Optimization terminated: change in the function value less than options.TolFun.\n",
      "Estimated function value at minimum: -0.11214790416745693 ± 0.09281333163559863 (mean ± SEM from 100 samples)\n"
     ]
    }
   ],
   "source": [
    "bads = BADS(noisy_sphere, x0, lb, ub, plb, pub, options=options)\n",
    "optimize_result = bads.optimize()"
   ]
  },
  {
   "cell_type": "markdown",
   "id": "4a7af7d8",
   "metadata": {},
   "source": [
    "## 3. Results and conclusions\n",
    "\n",
    "First, note that in this case `optimize_result['fval']` is the *estimated* function value at `optimize_result['x']`, obtained by taking the mean of `options['noise_final_samples']` target evaluations (`noise_final_samples = 10` by default, but here we used 100). The uncertainty of the value of the function at the returned solution, `optimize_result['fsd']`, is the [standard error](https://en.wikipedia.org/wiki/Standard_error) of the mean.\n",
    "\n",
    "If needed, the final samples used to estimate `fval` and `fsd` can be found in `optimize_result['yval_vec']`."
   ]
  },
  {
   "cell_type": "code",
   "execution_count": 4,
   "id": "6507b31a",
   "metadata": {},
   "outputs": [
    {
     "name": "stdout",
     "output_type": "stream",
     "text": [
      "BADS minimum at: x_min = [0.06634474 0.10446787], fval (estimated) = -0.1121 +/- 0.093\n",
      "total f-count: 238, time: 3.69 s\n",
      "final evaluations (shape): (100,)\n"
     ]
    }
   ],
   "source": [
    "x_min = optimize_result['x']\n",
    "fval = optimize_result['fval']\n",
    "fsd = optimize_result['fsd']\n",
    "\n",
    "print(f\"BADS minimum at: x_min = {x_min.flatten()}, fval (estimated) = {fval:.4g} +/- {fsd:.2g}\")\n",
    "print(f\"total f-count: {optimize_result['func_count']}, time: {round(optimize_result['total_time'], 2)} s\")\n",
    "print(f\"final evaluations (shape): {optimize_result['yval_vec'].shape}\")"
   ]
  },
  {
   "cell_type": "markdown",
   "id": "499c04d1",
   "metadata": {},
   "source": [
    "We can also check the ground-truth value of the target function at the returned point once we remove the noise:"
   ]
  },
  {
   "cell_type": "code",
   "execution_count": 5,
   "id": "17089c5d",
   "metadata": {},
   "outputs": [
    {
     "name": "stdout",
     "output_type": "stream",
     "text": [
      "The true, noiseless value of f(x_min) is 0.0153.\n"
     ]
    }
   ],
   "source": [
    "print(f\"The true, noiseless value of f(x_min) is {noisy_sphere(x_min,sigma=0)[0]:.3g}.\")"
   ]
  },
  {
   "cell_type": "markdown",
   "id": "d3ace561",
   "metadata": {},
   "source": [
    "Compare this to the true global minimum of the sphere function at $\\textbf{x}^\\star = [0,0]$, where $f^\\star = 0$."
   ]
  },
  {
   "cell_type": "markdown",
   "id": "dfcef7ec",
   "metadata": {},
   "source": [
    "### Remarks\n",
    "    \n",
    "- While PyBADS can handle noisy targets, it cannot handle arbitrarily large noise.\n",
    "\n",
    "- PyBADS will work best if the *standard deviation* of the objective function $\\sigma$, when evaluated in the vicinity of the global solution, is small with respect to changes in the objective function itself (that is, there is a good signal-to-noise ratio). In many cases, $\\sigma \\approx 1$ or less should work (this is the default assumption). If you approximately know the magnitude of the noise in the vicinity of the solution, you can help BADS by specifying it in advance (set `options[\"noise_size\"] = sigma_est`, where `sigma_est` is your estimate of the standard deviation).\n",
    "\n",
    "- If the noise around the solution is too large, PyBADS will perform poorly. In that case, we recommend to increase the precision of your computation of the objective (e.g., by drawing more Monte Carlo samples) such that $\\sigma \\approx 1$ or even lower, as needed by your problem. Note that the noise farther away from the solution can be larger, and this is usually okay.\n",
    "\n",
    "- In this example, we assumed the amount of noise in each target evaluation is unknown. If instead you *can* estimate the magnitude of the noise for each evaluation, see the next example.\n",
    "\n",
    "- For more information on optimizing noisy objective functions, see the BADS wiki: https://github.com/acerbilab/bads/wiki#noisy-objective-function (this link points to the MATLAB wiki, but many of the questions and answers apply to PyBADS as well).\n"
   ]
  },
  {
   "cell_type": "markdown",
   "id": "83320a21",
   "metadata": {},
   "source": [
    "## Example 3: Full code\n",
    "\n",
    "See [here](./src/pybads_example_3_noisy_objective.py) for a Python file with the code used in this example, with no extra fluff."
   ]
  }
 ],
 "metadata": {
  "kernelspec": {
   "display_name": "Python 3 (ipykernel)",
   "language": "python",
   "name": "python3"
  },
  "language_info": {
   "codemirror_mode": {
    "name": "ipython",
    "version": 3
   },
   "file_extension": ".py",
   "mimetype": "text/x-python",
   "name": "python",
   "nbconvert_exporter": "python",
   "pygments_lexer": "ipython3",
   "version": "3.9.7"
  }
 },
 "nbformat": 4,
 "nbformat_minor": 5
}
