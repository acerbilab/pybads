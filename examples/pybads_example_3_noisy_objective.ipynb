{
 "cells": [
  {
   "cell_type": "markdown",
   "id": "e48db32f",
   "metadata": {},
   "source": [
    "# PyBADS Example 3: Noisy objective function"
   ]
  },
  {
   "cell_type": "markdown",
   "id": "810b5d8b",
   "metadata": {},
   "source": [
    "In this example, we will show how to run PyBADS on a noisy target.\n",
    "\n",
    "This notebook is Part 3 of a series of notebooks in which we present various example usages for BADS with the PyBADS package."
   ]
  },
  {
   "cell_type": "code",
   "execution_count": 1,
   "id": "d0c7306b",
   "metadata": {},
   "outputs": [],
   "source": [
    "import numpy as np\n",
    "from pybads.bads.bads import BADS"
   ]
  },
  {
   "cell_type": "markdown",
   "id": "18652cfa",
   "metadata": {},
   "source": [
    "## 0. Noisy optimization\n",
    "\n",
    "PyBADS is able to optimize also *noisy* objective functions. A noisy (or stochastic) objective function is an objective that will return different results if evaluated twice at the same point $\\mathbf{x}$. Conversely, a non-noisy objective function is known as noiseless or deterministic. For example, noisy objectives are common in model fitting when the model is evaluated through simulation (e.g., via sampling aka Monte Carlo methods).\n",
    "\n",
    "For a noisy objective, PyBADS attempts to minimize the *expected value* of $f(\\mathbf{x})$,\n",
    "$$\n",
    "\\mathbf{x}^\\star = \\arg\\min_{\\mathbf{x} \\in \\mathcal{X} \\subseteq \\mathbb{R}^D} \\mathbb{E}\\left[f(\\mathbf{x})\\right].\n",
    "$$"
   ]
  },
  {
   "cell_type": "markdown",
   "id": "fccd1931",
   "metadata": {},
   "source": [
    "## 1. Problem definition\n",
    "\n",
    "For this example, we take as target a quadratic function and we add i.i.d. Gaussian noise to it (*noisy sphere*). In a real case, the noise would arise from some stochastic process in the calculation of the target."
   ]
  },
  {
   "cell_type": "code",
   "execution_count": 2,
   "id": "192fbe30",
   "metadata": {},
   "outputs": [],
   "source": [
    "def noisy_sphere(x,sigma=1.0):\n",
    "    \"\"\"Simple quadratic function with added noise.\"\"\"\n",
    "    x_2d = np.atleast_2d(x)\n",
    "    f = np.sum(x_2d**2, axis=1)\n",
    "    noise = sigma*np.random.normal(size=x_2d.shape[0])\n",
    "    return f + noise\n",
    "\n",
    "x0 = np.array([[-3, -3]]);      # Starting point\n",
    "lb = np.array([[-5, -5]])       # Lower bounds\n",
    "ub = np.array([[5, 5]])         # Upper bounds\n",
    "plb = np.array([[-2, -2]])      # Plausible lower bounds\n",
    "pub = np.array([[2, 2]])        # Plausible upper bounds"
   ]
  },
  {
   "cell_type": "markdown",
   "id": "363e280e",
   "metadata": {},
   "source": [
    "## 2. Run the optimization\n",
    "\n",
    "We introduce here several `options`, passed to `bads` as a `dict`:\n",
    "\n",
    "- We tell `bads` that the target is noisy by activating the `uncertaintyhandling` option. This is not strictly needed, as `bads` can automatically detect if a target is noisy, but it is good practice to specify.\n",
    "- We also limit the number of function evaluations with `maxfunevals`, knowing that this is a simple example. Generally, `bads` will tend to run for longer on noisy problems to better explore the noisy landscape.\n",
    "- Finally, we tell `bads` to re-evaluate the target at the returned solution with 100 samples via `noisefinalsamples` (by default, `noisefinalsamples = 10`, but since our function is inexpensive we can use more evaluations)."
   ]
  },
  {
   "cell_type": "code",
   "execution_count": 3,
   "id": "853bf3c9",
   "metadata": {},
   "outputs": [
    {
     "name": "stdout",
     "output_type": "stream",
     "text": [
      "Variables (index) defined with periodic boundaries: []\n",
      "Beginning optimization of a STOCHASTIC objective function\n",
      "\n",
      " Iteration f-count     E[f(x)]     SD[f(x)]     MeshScale     Method     Actions\n",
      "     0         1      19.151820           nan      1.000000            \n",
      "     0        33      -1.583903           nan      1.000000     Initial mesh       Initial points\n"
     ]
    },
    {
     "name": "stderr",
     "output_type": "stream",
     "text": [
      "c:\\users\\luigi\\documents\\github\\gpyreg\\gpyreg\\covariance_functions.py:376: RuntimeWarning: invalid value encountered in add\n",
      "  plausible_lower_bounds[i_nan] + plausible_upper_bounds[i_nan]\n"
     ]
    },
    {
     "name": "stdout",
     "output_type": "stream",
     "text": [
      "     0        37      -1.583903      1.000000      0.500000     Refine grid       Train\n",
      "     1        45      -1.583903      1.000000      0.250000     Refine grid       Train\n",
      "     2        53      -0.509283      0.301450      0.125000     Refine grid       Train\n",
      "     3        54      -0.328066      0.262007      0.125000     Successful search (('ES-ell', 1))       \n",
      "     3        65      -0.328066      0.262007      0.062500     Refine grid       \n",
      "     4        68       0.053921      0.226032      0.062500     Incremental search (('ES-ell', 1))       \n",
      "     4        73      -0.030799      0.237515      0.125000     Successful poll       \n",
      "     5        75      -0.057297      0.187462      0.125000     Incremental search (('ES-wcm', 1))       \n",
      "     5        81      -0.057297      0.187462      0.062500     Refine grid       Train\n",
      "     6        89      -0.082342      0.158759      0.125000     Successful poll       Train\n",
      "     7        90      -0.096991      0.153854      0.125000     Incremental search (('ES-wcm', 1))       \n",
      "     7        91      -0.099607      0.153820      0.125000     Incremental search (('ES-wcm', 1))       \n",
      "     7        97      -0.099607      0.153820      0.062500     Refine grid       \n",
      "     8       105      -0.104593      0.137996      0.125000     Successful poll       \n",
      "     9       108      -0.072282      0.130815      0.125000     Incremental search (('ES-wcm', 1))       \n",
      "     9       113      -0.072282      0.130815      0.062500     Refine grid       Train\n",
      "    10       121      -0.071479      0.125271      0.031250     Refine grid       Train\n",
      "    11       129      -0.094600      0.123467      0.015625     Refine grid       Train\n",
      "bads: The optimization is stalling, decreasing further the mesh size\n",
      "    12       137      -0.068826      0.119296      0.003906     Refine grid       Train\n",
      "    13       138      -0.062366      0.110121      0.003906     Successful search (('ES-wcm', 1))       \n",
      "    13       140      -0.077476      0.109016      0.003906     Successful search (('ES-wcm', 1))       \n",
      "    13       149      -0.077476      0.109016      0.001953     Refine grid       \n",
      "    14       150      -0.016107      0.114834      0.001953     Successful search (('ES-wcm', 1))       \n",
      "    14       151      -0.022507      0.114372      0.001953     Successful search (('ES-wcm', 1))       \n",
      "    14       152      -0.024941      0.114076      0.001953     Successful search (('ES-ell', 1))       \n",
      "    14       154      -0.029429      0.113315      0.001953     Successful search (('ES-ell', 1))       \n",
      "    14       155      -0.029607      0.111337      0.001953     Incremental search (('ES-ell', 1))       \n",
      "    14       156      -0.039751      0.112041      0.001953     Successful search (('ES-ell', 1))       \n",
      "    14       165      -0.039751      0.112041      0.000977     Refine grid       \n",
      "    15       166      -0.021339      0.105665      0.000977     Incremental search (('ES-ell', 1))       \n",
      "    15       167      -0.030466      0.104885      0.000977     Successful search (('ES-ell', 1))       \n",
      "    15       168      -0.033210      0.104051      0.000977     Successful search (('ES-ell', 1))       \n",
      "    15       177      -0.033210      0.104051      0.000488     Refine grid       Train\n",
      "    16       185      -0.031220      0.098070      0.000244     Refine grid       Train\n",
      "    17       186      -0.004558      0.095094      0.000244     Incremental search (('ES-wcm', 1))       \n",
      "    17       187      -0.008036      0.094771      0.000244     Successful search (('ES-wcm', 1))       \n",
      "    17       191      -0.008302      0.092497      0.000244     Incremental search (('ES-ell', 1))       \n",
      "    17       192      -0.008858      0.092186      0.000244     Incremental search (('ES-ell', 1))       \n",
      "    17       193      -0.010074      0.091876      0.000244     Successful search (('ES-ell', 1))       \n",
      "    17       195      -0.015339      0.091290      0.000244     Successful search (('ES-ell', 1))       \n",
      "Optimization terminated: reached maximum number of function evaluations options.maxfunevals.\n",
      "Estimated function value at minimum: -0.1590709497365042 ± 0.03289313428226393 (mean ± SEM from 100 samples)\n"
     ]
    }
   ],
   "source": [
    "options = {\"uncertaintyhandling\": True, \"maxfunevals\": 300, \"noisefinalsamples\": 100}\n",
    "bads = BADS(noisy_sphere, x0, lb, ub, plb, pub, user_options=options)\n",
    "x_min, fval = bads.optimize()"
   ]
  },
  {
   "cell_type": "markdown",
   "id": "4a7af7d8",
   "metadata": {},
   "source": [
    "## 3. Results and conclusions\n",
    "\n",
    "First of all, note that in this case the returned `fval` is the *estimated* function value at `x_min`, obtained by averaging `noisefinalsamples` target evaluations (`noisefinalsamples = 10` by default, but here we used 100)."
   ]
  },
  {
   "cell_type": "code",
   "execution_count": 4,
   "id": "6507b31a",
   "metadata": {},
   "outputs": [
    {
     "name": "stdout",
     "output_type": "stream",
     "text": [
      "BADS minimum at: x_min = [-0.16091919  0.04592896], fval (estimated) = -0.159 +/- 0.033\n",
      "total f-count: 300, time: 13.26 s\n"
     ]
    }
   ],
   "source": [
    "print(f\"BADS minimum at: x_min = {x_min.flatten()}, fval (estimated) = {fval:.3g} +/- {bads.fsd:.2g}\")\n",
    "print(f\"total f-count: {bads.function_logger.func_count}, time: {round(bads.optim_state['total_time'], 2)} s\")"
   ]
  },
  {
   "cell_type": "markdown",
   "id": "499c04d1",
   "metadata": {},
   "source": [
    "We can also check the ground-truth value of the target function at the returned point once we remove the noise:"
   ]
  },
  {
   "cell_type": "code",
   "execution_count": 5,
   "id": "17089c5d",
   "metadata": {},
   "outputs": [
    {
     "name": "stdout",
     "output_type": "stream",
     "text": [
      "The true, noiseless value of f(x_min) is 0.028.\n"
     ]
    }
   ],
   "source": [
    "print(f\"The true, noiseless value of f(x_min) is {noisy_sphere(x_min,sigma=0)[0]:.3g}.\")"
   ]
  },
  {
   "cell_type": "markdown",
   "id": "d3ace561",
   "metadata": {},
   "source": [
    "Compare this to the true global minimum of the sphere function at $\\textbf{x}^\\star = [0,0]$, where $f^\\star = 0$."
   ]
  },
  {
   "cell_type": "markdown",
   "id": "dfcef7ec",
   "metadata": {},
   "source": [
    "### Remark:\n",
    "    \n",
    "While PyBADS can handle noisy targets, it cannot handle arbitrarily large noise.\n",
    "\n",
    "PyBADS will work best if the *standard deviation* of the objective function $\\sigma_\\text{noise}$, when evaluated in the vicinity of the global solution, is small with respect to changes in the objective function itself (that is, there is a good signal-to-noise ratio). In many cases, $\\sigma_\\text{noise} \\approx 1$ or less should work (this is the default assumption). If you approximately know the magnitude of the noise in the vicinity of the solution, you can help BADS by specifying it in advance (set `options[\"noisesize\"] = sigma_noise`, where `sigma_noise` is your estimate of the standard deviation).\n",
    "\n",
    "If the noise around the solution is too large, PyBADS will perform poorly. In that case, we recommend to increase the precision of your computation of the objective (e.g., by drawing more Monte Carlo samples) such that $\\sigma_\\text{noise} \\approx 1$ or even lower, as needed by your problem. Note that the noise farther away from the solution can be larger, and this is usually okay."
   ]
  },
  {
   "cell_type": "markdown",
   "id": "83320a21",
   "metadata": {},
   "source": [
    "## Example 3: Full code\n",
    "\n",
    "See [here](./src/pybads_example_3_noisy_objective.py) for a Python file with the code used in this example, with no extra fluff."
   ]
  },
  {
   "cell_type": "code",
   "execution_count": 6,
   "id": "fc07d3be",
   "metadata": {},
   "outputs": [],
   "source": [
    "# from pybads.bads.bads_dump import BADSDump\n",
    "# from pybads.function_examples import quadratic_unknown_noisy_fcn, quadratic_noisy_fcn, extra_noisy_quadratic_fcn\n",
    "\n",
    "# Remarks:  For testing the heteroskedastic/user noise use quadratic_noisy_fcn as input to BADS\n",
    "#           and set in basic_bads_option.ini to True uncertaintyhandling and specifytargetnoise options.\n",
    "\n",
    "extra_noise = False\n",
    "if extra_noise:\n",
    "    title = 'Extra Noise objective function'\n",
    "    print(\"\\n *** Example 4: \" + title)\n",
    "    print(\"\\t We test BADS on a particularly noisy function.\")\n",
    "    bads = BADS(extra_noisy_quadratic_fcn, x0, lb, ub, plb, pub)\n",
    "    x_min, fval = bads.optimize()\n",
    "    print(f\"BADS minimum at: \\n\\n\\t x = {x_min.flatten()} \\n\\t fval= {fval} \\n\\t \\\n",
    "    total time: {round(bads.optim_state['total_time'], 2)} s \\n overhead: {round(bads.optim_state['overhead'], 2)}\")\n",
    "    print(f\"The true global minimum is at x = [1, 1], where fval = 0\\n\")"
   ]
  },
  {
   "cell_type": "code",
   "execution_count": null,
   "id": "e2adc83e",
   "metadata": {},
   "outputs": [],
   "source": []
  }
 ],
 "metadata": {
  "kernelspec": {
   "display_name": "Python 3 (ipykernel)",
   "language": "python",
   "name": "python3"
  },
  "language_info": {
   "codemirror_mode": {
    "name": "ipython",
    "version": 3
   },
   "file_extension": ".py",
   "mimetype": "text/x-python",
   "name": "python",
   "nbconvert_exporter": "python",
   "pygments_lexer": "ipython3",
   "version": "3.9.7"
  }
 },
 "nbformat": 4,
 "nbformat_minor": 5
}
