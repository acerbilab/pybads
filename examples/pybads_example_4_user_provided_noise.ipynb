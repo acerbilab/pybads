{
 "cells": [
  {
   "cell_type": "markdown",
   "id": "e48db32f",
   "metadata": {},
   "source": [
    "# PyBADS Example 4: Noisy objective with user-provided noise estimates"
   ]
  },
  {
   "cell_type": "markdown",
   "id": "810b5d8b",
   "metadata": {},
   "source": [
    "In this example, we will show how to run PyBADS on a noisy target for which we can estimate the noise at each evaluation.\n",
    "\n",
    "This notebook is Part 4 of a series of notebooks in which we present various example usages for BADS with the PyBADS package."
   ]
  },
  {
   "cell_type": "code",
   "execution_count": 1,
   "id": "d0c7306b",
   "metadata": {},
   "outputs": [],
   "source": [
    "import numpy as np\n",
    "from pybads.bads.bads import BADS"
   ]
  },
  {
   "cell_type": "markdown",
   "id": "fccd1931",
   "metadata": {},
   "source": [
    "## 1. Problem setup\n",
    "\n",
    "We assume you are already familiar with optimization of noisy targets with PyBADS, as described in the [previous notebook](./pybads_example_3_noisy_objective.ipynb).\n",
    "\n",
    "Sometimes, you may be able to estimate the noise associated with *each* function evaluation, for example via bootstrap or more sophisticated estimation methods. If you can do that, it is highly recommended you do so and tell PyBADS by activating the `specify_target_noise` option.\n",
    "\n",
    "In the user-specified noise case, the target function `fun` is expected to return *two* outputs: \n",
    "- the noisy estimate of the function at `x` (as usual); \n",
    "- the estimate of the *standard deviation* of the noisy evaluation at `x`.\n",
    "\n",
    "In this toy example below, we know the standard deviation `sigma` by construction. Note that the function is *heteroskedastic*, that is, the noise depends on the input location `x`."
   ]
  },
  {
   "cell_type": "code",
   "execution_count": 2,
   "id": "192fbe30",
   "metadata": {},
   "outputs": [],
   "source": [
    "def noisy_sphere_estimated_noise(x,scale=1.0):\n",
    "    \"\"\"Quadratic function with heteroskedastic noise; also return noise estimate.\"\"\"\n",
    "    x_2d = np.atleast_2d(x)\n",
    "    f = np.sum(x_2d**2, axis=1)\n",
    "    sigma = scale*(1.0 + np.sqrt(f))\n",
    "    y = f + sigma*np.random.normal(size=x_2d.shape[0])\n",
    "    return y, sigma\n",
    "\n",
    "x0 = np.array([-3, -3]);      # Starting point\n",
    "lb = np.array([-5, -5])       # Lower bounds\n",
    "ub = np.array([5, 5])         # Upper bounds\n",
    "plb = np.array([-2, -2])      # Plausible lower bounds\n",
    "pub = np.array([2, 2])        # Plausible upper bounds\n",
    "\n",
    "options = {\n",
    "    \"uncertainty_handling\": True,\n",
    "    \"specify_target_noise\": True,\n",
    "    \"noise_final_samples\": 100\n",
    "}"
   ]
  },
  {
   "cell_type": "markdown",
   "id": "363e280e",
   "metadata": {},
   "source": [
    "## 2. Run the optimization\n",
    "\n",
    "As usual, we run `bads` with the user-defined `options`."
   ]
  },
  {
   "cell_type": "code",
   "execution_count": 3,
   "id": "853bf3c9",
   "metadata": {},
   "outputs": [
    {
     "name": "stdout",
     "output_type": "stream",
     "text": [
      "Beginning optimization of a STOCHASTIC objective function (specified noise)\n",
      "\n",
      " Iteration f-count     E[f(x)]     SD[f(x)]     MeshScale     Method     Actions\n",
      "     0         1      24.052582      5.242641      1.000000            \n",
      "     0        33      -3.239091      5.242641      1.000000     Initial mesh       Initial points\n",
      "     0        37      -3.239091      2.296104      0.500000     Refine grid       Train\n",
      "     1        45      -3.239091      2.296104      0.250000     Refine grid       Train\n",
      "     2        46      -0.660504      0.376405      0.250000     Successful search (('ES-wcm', 1))       \n",
      "     2        57      -0.660504      0.376405      0.125000     Refine grid       Train\n",
      "     3        59      -0.377406      0.490517      0.125000     Successful search (('ES-ell', 1))       \n",
      "     3        61      -0.687586      0.767368      0.125000     Successful search (('ES-wcm', 1))       \n",
      "     3        69      -0.687586      0.767368      0.062500     Refine grid       Train\n",
      "     4        72      -0.408447      0.483704      0.062500     Successful search (('ES-ell', 1))       \n",
      "     4        73      -0.474076      0.613009      0.062500     Successful search (('ES-ell', 1))       \n",
      "     4        76      -0.488383      0.479716      0.062500     Incremental search (('ES-ell', 1))       \n",
      "     4        81      -0.488383      0.479716      0.031250     Refine grid       Train\n",
      "     5        82      -0.248758      0.412112      0.031250     Successful search (('ES-wcm', 1))       \n",
      "     5        84      -0.462054      0.381422      0.031250     Successful search (('ES-ell', 1))       \n",
      "     5        86      -0.545776      0.411347      0.031250     Successful search (('ES-ell', 1))       \n",
      "     5        97      -0.545776      0.411347      0.015625     Refine grid       \n",
      "     6       105      -0.226988      0.380919      0.007812     Refine grid       \n",
      "     7       113      -0.208878      0.195801      0.003906     Refine grid       Train\n",
      "     8       115      -0.176698      0.244722      0.003906     Successful search (('ES-ell', 1))       \n",
      "     8       118      -0.260733      0.229798      0.003906     Successful search (('ES-ell', 1))       \n",
      "     8       129      -0.260733      0.229798      0.001953     Refine grid       \n",
      "     9       130      -0.104979      0.344870      0.001953     Successful search (('ES-wcm', 1))       \n",
      "     9       132      -0.146978      0.336959      0.001953     Successful search (('ES-wcm', 1))       \n",
      "     9       136      -0.157071      0.181654      0.001953     Successful search (('ES-wcm', 1))       \n",
      "     9       137      -0.175518      0.180857      0.001953     Successful search (('ES-wcm', 1))       \n",
      "     9       139      -0.205615      0.178565      0.001953     Successful search (('ES-wcm', 1))       \n",
      "     9       149      -0.205615      0.178565      0.000977     Refine grid       \n",
      "    10       157      -0.193117      0.217804      0.000488     Refine grid       Train\n",
      "    11       165      -0.089528      0.151578      0.000122     Refine grid       Train\n",
      "    12       173      -0.083922      0.357967      0.000061     Refine grid       Train\n",
      "    13       174      -0.101863      0.270576      0.000061     Successful search (('ES-wcm', 1))       \n",
      "    13       175      -0.180878      0.262071      0.000061     Successful search (('ES-wcm', 1))       \n",
      "    13       185      -0.180878      0.262071      0.000031     Refine grid       \n",
      "    14       186      -0.259806      0.210856      0.000031     Successful search (('ES-wcm', 1))       \n",
      "    14       187      -0.266065      0.206733      0.000031     Successful search (('ES-wcm', 1))       \n",
      "    14       197      -0.266065      0.206733      0.000015     Refine grid       \n",
      "    15       198      -0.192874      0.178676      0.000015     Successful search (('ES-ell', 1))       \n",
      "    15       209      -0.192874      0.178676      0.000008     Refine grid       \n",
      "    16       217      -0.100321      0.159772      0.000004     Refine grid       \n",
      "Optimization terminated: change in the function value less than options.TolFun.\n",
      "Estimated function value at minimum: -0.08427547384645231 ± 0.10064568415689874 (mean ± SEM from 100 samples)\n"
     ]
    }
   ],
   "source": [
    "bads = BADS(noisy_sphere_estimated_noise, x0, lb, ub, plb, pub, options=options)\n",
    "optimize_result = bads.optimize()"
   ]
  },
  {
   "cell_type": "markdown",
   "id": "4a7af7d8",
   "metadata": {},
   "source": [
    "## 3. Results and conclusions\n",
    "\n",
    "As per noisy target optimization, `optimize_result['fval']` is the *estimated* function value at `optimize_result['x']`, here obtained by taking the *weighted* mean of the final sampled evaluations (each evaluation is weighted by its precision, or inverse variance).\n",
    "\n",
    "The final samples can be found in `optimize_result['yval_vec']`, and their estimated standard deviation in `optimize_result['ysd_vec']`."
   ]
  },
  {
   "cell_type": "code",
   "execution_count": 4,
   "id": "6507b31a",
   "metadata": {},
   "outputs": [
    {
     "name": "stdout",
     "output_type": "stream",
     "text": [
      "BADS minimum at: x_min = [0.00989914 0.10118866], fval (estimated) = -0.08428 +/- 0.1\n",
      "total f-count: 318, time: 6.23 s\n",
      "final evaluations (shape): (100,)\n",
      "final evaluations SD (shape): (100,)\n"
     ]
    }
   ],
   "source": [
    "x_min = optimize_result['x']\n",
    "fval = optimize_result['fval']\n",
    "fsd = optimize_result['fsd']\n",
    "\n",
    "print(f\"BADS minimum at: x_min = {x_min.flatten()}, fval (estimated) = {fval:.4g} +/- {fsd:.2g}\")\n",
    "print(f\"total f-count: {optimize_result['func_count']}, time: {round(optimize_result['total_time'], 2)} s\")\n",
    "print(f\"final evaluations (shape): {optimize_result['yval_vec'].shape}\")\n",
    "print(f\"final evaluations SD (shape): {optimize_result['ysd_vec'].shape}\")"
   ]
  },
  {
   "cell_type": "markdown",
   "id": "499c04d1",
   "metadata": {},
   "source": [
    "We can also check the ground-truth value of the target function at the returned point once we remove the noise:"
   ]
  },
  {
   "cell_type": "code",
   "execution_count": 5,
   "id": "17089c5d",
   "metadata": {},
   "outputs": [
    {
     "name": "stdout",
     "output_type": "stream",
     "text": [
      "The true, noiseless value of f(x_min) is 0.0103.\n"
     ]
    }
   ],
   "source": [
    "print(f\"The true, noiseless value of f(x_min) is {noisy_sphere_estimated_noise(x_min,scale=0)[0][0]:.3g}.\")"
   ]
  },
  {
   "cell_type": "markdown",
   "id": "d3ace561",
   "metadata": {},
   "source": [
    "Compare this to the true global minimum of the sphere function at $\\textbf{x}^\\star = [0,0]$, where $f^\\star = 0$.\n",
    "\n",
    "### Remarks\n",
    "\n",
    "- Due to the elevated level of noise, we do not necessarily expect high precision in the solution.\n",
    "\n",
    "- For more information on optimizing noisy objective functions, see the BADS wiki: https://github.com/acerbilab/bads/wiki#noisy-objective-function (this link points to the MATLAB wiki, but many of the questions and answers apply to PyBADS as well)."
   ]
  },
  {
   "cell_type": "markdown",
   "id": "83320a21",
   "metadata": {},
   "source": [
    "## Example 4: Full code\n",
    "\n",
    "See [here](./src/pybads_example_4_user_provided_noise.py) for a Python file with the code used in this example, with no extra fluff."
   ]
  },
  {
   "cell_type": "code",
   "execution_count": null,
   "id": "01f769e8",
   "metadata": {},
   "outputs": [],
   "source": []
  }
 ],
 "metadata": {
  "kernelspec": {
   "display_name": "Python 3 (ipykernel)",
   "language": "python",
   "name": "python3"
  },
  "language_info": {
   "codemirror_mode": {
    "name": "ipython",
    "version": 3
   },
   "file_extension": ".py",
   "mimetype": "text/x-python",
   "name": "python",
   "nbconvert_exporter": "python",
   "pygments_lexer": "ipython3",
   "version": "3.9.7"
  }
 },
 "nbformat": 4,
 "nbformat_minor": 5
}
