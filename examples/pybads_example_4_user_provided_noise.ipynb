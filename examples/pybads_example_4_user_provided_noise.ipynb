{
 "cells": [
  {
   "cell_type": "markdown",
   "id": "e48db32f",
   "metadata": {},
   "source": [
    "# PyBADS Example 4: Noisy objective with user-provided noise estimates"
   ]
  },
  {
   "cell_type": "markdown",
   "id": "810b5d8b",
   "metadata": {},
   "source": [
    "In this example, we will show how to run PyBADS on a noisy target for which we can estimate the noise at each evaluation.\n",
    "\n",
    "This notebook is Part 4 of a series of notebooks in which we present various example usages for BADS with the PyBADS package."
   ]
  },
  {
   "cell_type": "code",
   "execution_count": 1,
   "id": "d0c7306b",
   "metadata": {},
   "outputs": [],
   "source": [
    "import numpy as np\n",
    "from pybads.bads.bads import BADS"
   ]
  },
  {
   "cell_type": "markdown",
   "id": "fccd1931",
   "metadata": {},
   "source": [
    "## 1. Problem setup\n",
    "\n",
    "We assume you are already familiar with optimization of noisy targets with PyBADS, as described in the [previous notebook](./pybads_example_3_noisy_objective.ipynb).\n",
    "\n",
    "Sometimes, you may be able to estimate the noise associated with *each* function evaluation, for example via bootstrap or more sophisticated estimation methods. If you can do that, it is highly recommended you do so and tell PyBADS by activating the `specify_target_noise` option.\n",
    "\n",
    "In the user-specified noise case, the target function `fun` is expected to return *two* outputs: \n",
    "- the noisy estimate of the function at `x` (as usual); \n",
    "- the estimate of the *standard deviation* of the noisy evaluation at `x`.\n",
    "\n",
    "In this toy example below, we know the standard deviation `sigma` by construction. Note that the function is *heteroskedastic*, that is, the noise depends on the input location `x`."
   ]
  },
  {
   "cell_type": "code",
   "execution_count": 2,
   "id": "192fbe30",
   "metadata": {},
   "outputs": [],
   "source": [
    "def noisy_sphere_estimated_noise(x,scale=1.0):\n",
    "    \"\"\"Quadratic function with heteroskedastic noise; also return noise estimate.\"\"\"\n",
    "    x_2d = np.atleast_2d(x)\n",
    "    f = np.sum(x_2d**2, axis=1)\n",
    "    sigma = scale*(1.0 + np.sqrt(f))\n",
    "    y = f + sigma*np.random.normal(size=x_2d.shape[0])\n",
    "    return y, sigma\n",
    "\n",
    "x0 = np.array([[-3, -3]]);      # Starting point\n",
    "lb = np.array([[-5, -5]])       # Lower bounds\n",
    "ub = np.array([[5, 5]])         # Upper bounds\n",
    "plb = np.array([[-2, -2]])      # Plausible lower bounds\n",
    "pub = np.array([[2, 2]])        # Plausible upper bounds\n",
    "\n",
    "options = {\n",
    "    \"uncertainty_handling\": True,\n",
    "    \"specify_target_noise\": True,\n",
    "    \"noise_final_samples\": 100\n",
    "}"
   ]
  },
  {
   "cell_type": "markdown",
   "id": "363e280e",
   "metadata": {},
   "source": [
    "## 2. Run the optimization\n",
    "\n",
    "As usual, we run `bads` with the user-defined `options`."
   ]
  },
  {
   "cell_type": "code",
   "execution_count": 3,
   "id": "853bf3c9",
   "metadata": {},
   "outputs": [
    {
     "name": "stdout",
     "output_type": "stream",
     "text": [
      "Beginning optimization of a STOCHASTIC objective function (specified noise)\n",
      "\n",
      " Iteration f-count     E[f(x)]     SD[f(x)]     MeshScale     Method     Actions\n",
      "     0         1      13.360147      5.242641      1.000000            \n",
      "     0        33      -2.055207      5.242641      1.000000     Initial mesh       Initial points\n",
      "     0        37      -2.055207      2.876594      0.500000     Refine grid       Train\n",
      "     1        45      -2.055207      2.876594      0.250000     Refine grid       Train\n",
      "     2        46      -0.448055      0.414963      0.250000     Successful search (('ES-wcm', 1))       \n",
      "     2        47      -0.747199      0.384859      0.250000     Successful search (('ES-ell', 1))       \n",
      "     2        57      -0.747199      0.384859      0.125000     Refine grid       Train\n",
      "     3        65      -0.472145      0.293575      0.062500     Refine grid       Train\n",
      "     4        66      -0.059219      0.243223      0.062500     Incremental search (('ES-wcm', 1))       \n",
      "     4        67      -0.112357      0.233567      0.062500     Successful search (('ES-wcm', 1))       \n",
      "     4        77      -0.112357      0.233567      0.031250     Refine grid       \n",
      "     5        78       0.015441      0.195556      0.031250     Successful search (('ES-wcm', 1))       \n",
      "     5        80      -0.026659      0.188932      0.031250     Successful search (('ES-ell', 1))       \n",
      "     5        82      -0.084501      0.183244      0.031250     Successful search (('ES-ell', 1))       \n",
      "     5        89      -0.110504      0.169277      0.031250     Successful search (('ES-ell', 1))       \n",
      "     5        90      -0.113105      0.186503      0.031250     Incremental search (('ES-ell', 1))       \n",
      "     5        97      -0.113105      0.186503      0.015625     Refine grid       \n",
      "     6        98      -0.106453      0.164469      0.015625     Successful search (('ES-ell', 1))       \n",
      "     6       101      -0.127036      0.163022      0.015625     Successful search (('ES-wcm', 1))       \n",
      "     6       109      -0.127036      0.163022      0.007812     Refine grid       \n",
      "     7       110      -0.108925      0.145921      0.007812     Successful search (('ES-wcm', 1))       \n",
      "     7       121      -0.108925      0.145921      0.003906     Refine grid       \n",
      "     8       123      -0.046194      0.131973      0.003906     Successful search (('ES-ell', 1))       \n",
      "     8       127      -0.060914      0.127395      0.003906     Successful search (('ES-wcm', 1))       \n",
      "     8       137      -0.060914      0.127395      0.001953     Refine grid       Train\n",
      "     9       138      -0.005258      0.121012      0.001953     Successful search (('ES-wcm', 1))       \n",
      "     9       140      -0.007973      0.120086      0.001953     Successful search (('ES-wcm', 1))       \n",
      "     9       144      -0.010372      0.117227      0.001953     Successful search (('ES-wcm', 1))       \n",
      "     9       145      -0.017062      0.117141      0.001953     Successful search (('ES-wcm', 1))       \n",
      "     9       148      -0.036179      0.115430      0.001953     Successful search (('ES-wcm', 1))       \n",
      "     9       150      -0.039611      0.114942      0.001953     Successful search (('ES-wcm', 1))       \n",
      "     9       161      -0.039611      0.114942      0.000977     Refine grid       \n",
      "    10       162       0.034656      0.107029      0.000977     Successful search (('ES-wcm', 1))       \n",
      "    10       163       0.019389      0.107161      0.000977     Successful search (('ES-wcm', 1))       \n",
      "    10       173       0.019389      0.107161      0.000488     Refine grid       \n",
      "    11       174       0.056029      0.101841      0.000488     Successful search (('ES-ell', 1))       \n",
      "    11       175       0.053407      0.101611      0.000488     Successful search (('ES-ell', 1))       \n",
      "    11       176       0.046718      0.101499      0.000488     Successful search (('ES-wcm', 1))       \n",
      "    11       177       0.034071      0.101603      0.000488     Successful search (('ES-wcm', 1))       \n",
      "    11       180       0.029964      0.100297      0.000488     Successful search (('ES-wcm', 1))       \n",
      "    11       181       0.028336      0.100024      0.000488     Successful search (('ES-wcm', 1))       \n",
      "    11       182       0.019237      0.099816      0.000488     Successful search (('ES-wcm', 1))       \n",
      "    11       184       0.015627      0.099185      0.000488     Successful search (('ES-wcm', 1))       \n",
      "    11       193       0.015627      0.099185      0.000244     Refine grid       \n",
      "    12       194       0.034407      0.094133      0.000244     Successful search (('ES-ell', 1))       \n",
      "    12       195       0.029519      0.093835      0.000244     Successful search (('ES-ell', 1))       \n",
      "    12       196       0.027785      0.093566      0.000244     Successful search (('ES-ell', 1))       \n",
      "    12       198       0.024618      0.092884      0.000244     Successful search (('ES-wcm', 1))       \n",
      "    12       199       0.011852      0.092582      0.000244     Successful search (('ES-ell', 1))       \n",
      "    12       200       0.010559      0.092400      0.000244     Successful search (('ES-ell', 1))       \n",
      "    12       203      -0.002550      0.091371      0.000244     Successful search (('ES-ell', 1))       \n",
      "    12       204      -0.005785      0.091104      0.000244     Successful search (('ES-ell', 1))       \n",
      "    12       213      -0.005785      0.091104      0.000122     Refine grid       Train\n",
      "    13       214       0.013381      0.088694      0.000122     Successful search (('ES-ell', 1))       \n",
      "    13       225       0.009144      0.085875      0.000244     Successful poll       Train\n",
      "    14       226      -0.001848      0.085892      0.000244     Successful search (('ES-ell', 1))       \n",
      "    14       227      -0.007255      0.085723      0.000244     Successful search (('ES-ell', 1))       \n",
      "    14       229      -0.010243      0.085278      0.000244     Successful search (('ES-ell', 1))       \n",
      "    14       237      -0.010243      0.085278      0.000122     Refine grid       \n",
      "    15       245      -0.005816      0.083818      0.000031     Refine grid       Train\n",
      "    16       253       0.010241      0.082530      0.000008     Refine grid       Train\n",
      "    17       261       0.033108      0.080413      0.000004     Refine grid       Train\n",
      "    18       262       0.053888      0.080701      0.000004     Successful search (('ES-wcm', 1))       \n",
      "    18       264       0.049970      0.080204      0.000004     Successful search (('ES-ell', 1))       \n",
      "    18       273       0.047259      0.078630      0.000008     Successful poll       \n",
      "    19       274       0.052503      0.078347      0.000008     Incremental search (('ES-ell', 1))       \n",
      "    19       275       0.048192      0.078125      0.000008     Successful search (('ES-ell', 1))       \n",
      "    19       285       0.042851      0.076695      0.000015     Successful poll       \n",
      "    20       293       0.053392      0.078543      0.000008     Refine grid       \n",
      "Optimization terminated: change in the function value less than options.TolFun.\n",
      "Estimated function value at minimum: 0.1907414593709963 ± 0.1070213425878884 (mean ± SEM from 100 samples)\n"
     ]
    }
   ],
   "source": [
    "bads = BADS(noisy_sphere_estimated_noise, x0, lb, ub, plb, pub, options=options)\n",
    "optimize_result = bads.optimize()"
   ]
  },
  {
   "cell_type": "markdown",
   "id": "4a7af7d8",
   "metadata": {},
   "source": [
    "## 3. Results and conclusions\n",
    "\n",
    "As per noisy target optimization, `optimize_result['fval']` is the *estimated* function value at `optimize_result['x']`, here obtained by taking the *weighted* mean of the final sampled evaluations (each evaluation is weighted by its precision, or inverse variance).\n",
    "\n",
    "The final samples can be found in `optimize_result['yval_vec']`, and their estimated standard deviation in `optimize_result['ysd_vec']`."
   ]
  },
  {
   "cell_type": "code",
   "execution_count": 4,
   "id": "6507b31a",
   "metadata": {},
   "outputs": [
    {
     "name": "stdout",
     "output_type": "stream",
     "text": [
      "BADS minimum at: x_min = [0.04943848 0.04064941], fval (estimated) = 0.1907 +/- 0.11\n",
      "total f-count: 394, time: 21.69 s\n",
      "final evaluations (shape): (100,)\n"
     ]
    }
   ],
   "source": [
    "x_min = optimize_result['x']\n",
    "fval = optimize_result['fval']\n",
    "fsd = optimize_result['fsd']\n",
    "\n",
    "print(f\"BADS minimum at: x_min = {x_min.flatten()}, fval (estimated) = {fval:.4g} +/- {fsd:.2g}\")\n",
    "print(f\"total f-count: {optimize_result['func_count']}, time: {round(optimize_result['total_time'], 2)} s\")\n",
    "print(f\"final evaluations (shape): {optimize_result['yval_vec'].shape}\")"
   ]
  },
  {
   "cell_type": "markdown",
   "id": "499c04d1",
   "metadata": {},
   "source": [
    "We can also check the ground-truth value of the target function at the returned point once we remove the noise:"
   ]
  },
  {
   "cell_type": "code",
   "execution_count": 5,
   "id": "17089c5d",
   "metadata": {},
   "outputs": [
    {
     "name": "stdout",
     "output_type": "stream",
     "text": [
      "The true, noiseless value of f(x_min) is 0.0041.\n"
     ]
    }
   ],
   "source": [
    "print(f\"The true, noiseless value of f(x_min) is {noisy_sphere_estimated_noise(x_min,scale=0)[0][0]:.3g}.\")"
   ]
  },
  {
   "cell_type": "markdown",
   "id": "d3ace561",
   "metadata": {},
   "source": [
    "Compare this to the true global minimum of the sphere function at $\\textbf{x}^\\star = [0,0]$, where $f^\\star = 0$.\n",
    "\n",
    "Due to the elevated level of noise, we do not necessarily expect high precision in the solution"
   ]
  },
  {
   "cell_type": "markdown",
   "id": "83320a21",
   "metadata": {},
   "source": [
    "## Example 4: Full code\n",
    "\n",
    "See [here](./src/pybads_example_4_user_provided_noise.py) for a Python file with the code used in this example, with no extra fluff."
   ]
  },
  {
   "cell_type": "code",
   "execution_count": null,
   "id": "01f769e8",
   "metadata": {},
   "outputs": [],
   "source": []
  }
 ],
 "metadata": {
  "kernelspec": {
   "display_name": "Python 3 (ipykernel)",
   "language": "python",
   "name": "python3"
  },
  "language_info": {
   "codemirror_mode": {
    "name": "ipython",
    "version": 3
   },
   "file_extension": ".py",
   "mimetype": "text/x-python",
   "name": "python",
   "nbconvert_exporter": "python",
   "pygments_lexer": "ipython3",
   "version": "3.9.7"
  }
 },
 "nbformat": 4,
 "nbformat_minor": 5
}
