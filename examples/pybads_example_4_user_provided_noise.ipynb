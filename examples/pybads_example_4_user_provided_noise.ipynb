{
 "cells": [
  {
   "cell_type": "markdown",
   "id": "e48db32f",
   "metadata": {},
   "source": [
    "# PyBADS Example 4: Noisy objective with user-provided noise estimates"
   ]
  },
  {
   "cell_type": "markdown",
   "id": "810b5d8b",
   "metadata": {},
   "source": [
    "In this example, we will show how to run PyBADS on a noisy target for which we can estimate the noise at each evaluation.\n",
    "\n",
    "This notebook is Part 4 of a series of notebooks in which we present various example usages for BADS with the PyBADS package."
   ]
  },
  {
   "cell_type": "code",
   "execution_count": 1,
   "id": "d0c7306b",
   "metadata": {},
   "outputs": [],
   "source": [
    "import numpy as np\n",
    "from pybads.bads.bads import BADS"
   ]
  },
  {
   "cell_type": "markdown",
   "id": "fccd1931",
   "metadata": {},
   "source": [
    "## 1. Problem setup\n",
    "\n",
    "We assume you are already familiar with optimization of noisy targets with PyBADS, as described in the [previous notebook](./pybads_example_3_noisy_objective.ipynb).\n",
    "\n",
    "Sometimes, you may be able to estimate the noise associated with *each* function evaluation, for example via bootstrap or more sophisticated estimation methods. If you can do that, it is highly recommended you do so and tell PyBADS by activating the `specify_target_noise` option.\n",
    "\n",
    "In the user-specified noise case, the target function `fun` is expected to return *two* outputs: \n",
    "- the noisy estimate of the function at `x` (as usual); \n",
    "- the estimate of the *standard deviation* of the noisy evaluation at `x`.\n",
    "\n",
    "In this toy example below, we know the standard deviation `sigma` by construction. Note that the function is *heteroskedastic*, that is, the noise depends on the input location `x`."
   ]
  },
  {
   "cell_type": "code",
   "execution_count": 2,
   "id": "192fbe30",
   "metadata": {},
   "outputs": [],
   "source": [
    "def noisy_sphere_estimated_noise(x,scale=1.0):\n",
    "    \"\"\"Quadratic function with heteroskedastic noise; also return noise estimate.\"\"\"\n",
    "    x_2d = np.atleast_2d(x)\n",
    "    f = np.sum(x_2d**2, axis=1)\n",
    "    sigma = scale*(1.0 + np.sqrt(f))\n",
    "    y = f + sigma*np.random.normal(size=x_2d.shape[0])\n",
    "    return y, sigma\n",
    "\n",
    "x0 = np.array([-3, -3]);      # Starting point\n",
    "lb = np.array([-5, -5])       # Lower bounds\n",
    "ub = np.array([5, 5])         # Upper bounds\n",
    "plb = np.array([-2, -2])      # Plausible lower bounds\n",
    "pub = np.array([2, 2])        # Plausible upper bounds\n",
    "\n",
    "options = {\n",
    "    \"uncertainty_handling\": True,\n",
    "    \"specify_target_noise\": True,\n",
    "    \"noise_final_samples\": 100\n",
    "}"
   ]
  },
  {
   "cell_type": "markdown",
   "id": "363e280e",
   "metadata": {},
   "source": [
    "## 2. Run the optimization\n",
    "\n",
    "As usual, we run `bads` with the user-defined `options`."
   ]
  },
  {
   "cell_type": "code",
   "execution_count": 3,
   "id": "853bf3c9",
   "metadata": {},
   "outputs": [
    {
     "name": "stdout",
     "output_type": "stream",
     "text": [
      "Beginning optimization of a STOCHASTIC objective function (specified noise)\n",
      "\n",
      " Iteration    f-count      E[f(x)]        SD[f(x)]           MeshScale          Method              Actions\n",
      "     0           1         22.2127         5.24264               1                                  \n",
      "     0          33        -3.77984         5.24264               1          Initial mesh            Initial points\n",
      "     0          37        -3.77984         3.08351             0.5          Refine grid             Train\n",
      "     1          45        -3.77984         3.08351            0.25          Refine grid             Train\n",
      "     2          46         1.88743         1.03634            0.25      Successful search (ES-wcm)        \n",
      "     2          47         1.76843         1.26703            0.25      Incremental search (ES-wcm)        \n",
      "     2          51         1.42707        0.829505            0.25      Successful search (ES-wcm)        \n",
      "     2          52        0.192453        0.674431            0.25      Successful search (ES-wcm)        \n",
      "     2          54        0.191931        0.626122            0.25      Incremental search (ES-ell)        \n",
      "     2          57       -0.911461        0.701142            0.25      Successful search (ES-ell)        \n",
      "     2          65       -0.911461        0.701142           0.125          Refine grid             \n",
      "     3          68       -0.680449        0.544451           0.125      Successful search (ES-wcm)        \n",
      "     3          77       -0.680449        0.544451          0.0625          Refine grid             \n",
      "     4          85       -0.449752        0.370257         0.03125          Refine grid             \n",
      "     5          93       -0.175628         0.34631       0.0078125          Refine grid             Train\n",
      "     6          94       -0.224893        0.318931       0.0078125      Successful search (ES-ell)        \n",
      "     6          95        -0.31465        0.325966       0.0078125      Successful search (ES-ell)        \n",
      "     6         105        -0.31465        0.325966      0.00390625          Refine grid             \n",
      "     7         113        0.221684        0.243237      0.00195312          Refine grid             Train\n",
      "     8         114        0.177954        0.218942      0.00195312      Successful search (ES-ell)        \n",
      "     8         115        0.152848        0.215724      0.00195312      Successful search (ES-ell)        \n",
      "     8         116        0.144743        0.215467      0.00195312      Successful search (ES-ell)        \n",
      "     8         118       0.0706372        0.210802      0.00195312      Successful search (ES-ell)        \n",
      "     8         119      0.00502714        0.211516      0.00195312      Successful search (ES-ell)        \n",
      "     8         120      -0.0164038        0.216368      0.00195312      Successful search (ES-ell)        \n",
      "     8         122      -0.0433138        0.216848      0.00195312      Successful search (ES-ell)        \n",
      "     8         127      -0.0685384        0.204399      0.00195312      Successful search (ES-ell)        \n",
      "     8         137      -0.0685384        0.204399     0.000976562          Refine grid             Train\n",
      "     9         138       0.0411357        0.184947     0.000976562      Successful search (ES-ell)        \n",
      "     9         139      0.00109751        0.186453     0.000976562      Successful search (ES-ell)        \n",
      "     9         140       -0.026441        0.189181     0.000976562      Successful search (ES-ell)        \n",
      "     9         142      -0.0980505         0.18732     0.000976562      Successful search (ES-ell)        \n",
      "     9         143        -0.11752        0.188938     0.000976562      Successful search (ES-ell)        \n",
      "     9         153        -0.11752        0.188938     0.000488281          Refine grid             \n",
      "    10         154       0.0729108        0.159741     0.000488281      Successful search (ES-wcm)        \n",
      "    10         165       0.0729108        0.159741     0.000244141          Refine grid             \n",
      "    11         173        0.141303        0.149714     6.10352e-05          Refine grid             \n",
      "    12         174       0.0921675        0.158195     6.10352e-05      Successful search (ES-ell)        \n",
      "    12         176       0.0874329        0.155442     6.10352e-05      Successful search (ES-wcm)        \n",
      "    12         185       0.0874329        0.155442     3.05176e-05          Refine grid             \n",
      "    13         193        0.110479         0.14764     1.52588e-05          Refine grid             \n",
      "    14         195        0.136465        0.137021     1.52588e-05      Successful search (ES-ell)        \n",
      "    14         197         0.12213        0.135257     1.52588e-05      Successful search (ES-ell)        \n",
      "    14         198        0.107576        0.134414     1.52588e-05      Successful search (ES-ell)        \n",
      "    14         199       0.0819247        0.136099     1.52588e-05      Successful search (ES-ell)        \n",
      "    14         209       0.0819247        0.136099     7.62939e-06          Refine grid             \n",
      "    15         217       0.0971139        0.130062      3.8147e-06          Refine grid             \n",
      "    16         218        0.146585        0.159076      3.8147e-06      Successful search (ES-ell)        \n",
      "    16         219        0.145505        0.157652      3.8147e-06      Successful search (ES-ell)        \n",
      "    16         221        0.141274        0.118439      3.8147e-06      Successful search (ES-ell)        \n",
      "    16         222        0.106601        0.117841      3.8147e-06      Successful search (ES-ell)        \n",
      "    16         225       0.0944823        0.116102      3.8147e-06      Successful search (ES-ell)        \n",
      "    16         232       0.0666889        0.140404     7.62939e-06        Successful poll           Train\n",
      "    17         233       0.0579007        0.140148     7.62939e-06      Successful search (ES-wcm)        \n",
      "    17         244       0.0579007        0.140148      3.8147e-06          Refine grid             Train\n",
      "    18         252        0.126969        0.104298     7.62939e-06        Successful poll           Train\n",
      "    19         254        0.138481        0.109217     7.62939e-06      Incremental search (ES-wcm)        \n",
      "    19         255        0.135241        0.108759     7.62939e-06      Successful search (ES-ell)        \n",
      "    19         256        0.134152         0.10831     7.62939e-06      Successful search (ES-ell)        \n",
      "    19         257         0.13334        0.107861     7.62939e-06      Incremental search (ES-ell)        \n",
      "    19         258        0.132577        0.107426     7.62939e-06      Incremental search (ES-ell)        \n",
      "    19         260        0.121698        0.106551     7.62939e-06      Successful search (ES-wcm)        \n",
      "    19         265       0.0848504       0.0959241     1.52588e-05        Successful poll           Train\n",
      "    20         269       0.0724311       0.0948132     1.52588e-05      Successful search (ES-wcm)        \n",
      "    20         270         0.05753       0.0945105     1.52588e-05      Successful search (ES-wcm)        \n",
      "    20         281         0.05753       0.0945105     7.62939e-06          Refine grid             \n",
      "    21         289       0.0969691       0.0912243      3.8147e-06          Refine grid             Train\n",
      "    22         297        0.161719       0.0900695     7.62939e-06        Successful poll           Train\n",
      "    23         305        0.165818       0.0909823      3.8147e-06          Refine grid             Train\n",
      "    24         306        0.180577       0.0896191      3.8147e-06      Successful search (ES-wcm)        \n",
      "    24         307        0.179285       0.0893758      3.8147e-06      Successful search (ES-wcm)        \n",
      "    24         308        0.163992       0.0891224      3.8147e-06      Successful search (ES-wcm)        \n",
      "    24         317        0.163992       0.0891224     1.90735e-06          Refine grid             \n",
      "    25         318        0.136525       0.0881197     1.90735e-06      Successful search (ES-wcm)        \n",
      "    25         319        0.129147       0.0879598     1.90735e-06      Successful search (ES-wcm)        \n",
      "    25         329        0.129147       0.0879598     9.53674e-07          Refine grid             \n"
     ]
    },
    {
     "name": "stdout",
     "output_type": "stream",
     "text": [
      "Optimization terminated: mesh size less than options.tolmesh.\n",
      "Estimated function value at minimum: 0.27557882869101563 ± 0.1250974735069777 (mean ± SEM from 100 samples)\n"
     ]
    }
   ],
   "source": [
    "bads = BADS(noisy_sphere_estimated_noise, x0, lb, ub, plb, pub, options=options)\n",
    "optimize_result = bads.optimize()"
   ]
  },
  {
   "cell_type": "markdown",
   "id": "4a7af7d8",
   "metadata": {},
   "source": [
    "## 3. Results and conclusions\n",
    "\n",
    "As per noisy target optimization, `optimize_result['fval']` is the *estimated* function value at `optimize_result['x']`, here obtained by taking the *weighted* mean of the final sampled evaluations (each evaluation is weighted by its precision, or inverse variance).\n",
    "\n",
    "The final samples can be found in `optimize_result['yval_vec']`, and their estimated standard deviation in `optimize_result['ysd_vec']`."
   ]
  },
  {
   "cell_type": "code",
   "execution_count": 4,
   "id": "6507b31a",
   "metadata": {},
   "outputs": [
    {
     "name": "stdout",
     "output_type": "stream",
     "text": [
      "BADS minimum at: x_min = [-0.31101096 -0.21714173], fval (estimated) = 0.2756 +/- 0.13\n",
      "total f-count: 429, time: 13.03 s\n",
      "final evaluations (shape): (100,)\n",
      "final evaluations SD (shape): (100,)\n"
     ]
    }
   ],
   "source": [
    "x_min = optimize_result['x']\n",
    "fval = optimize_result['fval']\n",
    "fsd = optimize_result['fsd']\n",
    "\n",
    "print(f\"BADS minimum at: x_min = {x_min.flatten()}, fval (estimated) = {fval:.4g} +/- {fsd:.2g}\")\n",
    "print(f\"total f-count: {optimize_result['func_count']}, time: {round(optimize_result['total_time'], 2)} s\")\n",
    "print(f\"final evaluations (shape): {optimize_result['yval_vec'].shape}\")\n",
    "print(f\"final evaluations SD (shape): {optimize_result['ysd_vec'].shape}\")"
   ]
  },
  {
   "cell_type": "markdown",
   "id": "499c04d1",
   "metadata": {},
   "source": [
    "We can also check the ground-truth value of the target function at the returned point once we remove the noise:"
   ]
  },
  {
   "cell_type": "code",
   "execution_count": 5,
   "id": "17089c5d",
   "metadata": {},
   "outputs": [
    {
     "name": "stdout",
     "output_type": "stream",
     "text": [
      "The true, noiseless value of f(x_min) is 0.144.\n"
     ]
    }
   ],
   "source": [
    "print(f\"The true, noiseless value of f(x_min) is {noisy_sphere_estimated_noise(x_min,scale=0)[0][0]:.3g}.\")"
   ]
  },
  {
   "cell_type": "markdown",
   "id": "d3ace561",
   "metadata": {},
   "source": [
    "Compare this to the true global minimum of the sphere function at $\\textbf{x}^\\star = [0,0]$, where $f^\\star = 0$.\n",
    "\n",
    "### Remarks\n",
    "\n",
    "- Due to the elevated level of noise, we do not necessarily expect high precision in the solution.\n",
    "\n",
    "- For more information on optimizing noisy objective functions, see the BADS wiki: https://github.com/acerbilab/bads/wiki#noisy-objective-function (this link points to the MATLAB wiki, but many of the questions and answers apply to PyBADS as well)."
   ]
  },
  {
   "cell_type": "markdown",
   "id": "83320a21",
   "metadata": {},
   "source": [
    "## Example 4: Full code\n",
    "\n",
    "See [here](./src/pybads_example_4_user_provided_noise.py) for a Python file with the code used in this example, with no extra fluff."
   ]
  },
  {
   "cell_type": "code",
   "execution_count": null,
   "id": "01f769e8",
   "metadata": {},
   "outputs": [],
   "source": []
  }
 ],
 "metadata": {
  "kernelspec": {
   "display_name": "Python 3 (ipykernel)",
   "language": "python",
   "name": "python3"
  },
  "language_info": {
   "codemirror_mode": {
    "name": "ipython",
    "version": 3
   },
   "file_extension": ".py",
   "mimetype": "text/x-python",
   "name": "python",
   "nbconvert_exporter": "python",
   "pygments_lexer": "ipython3",
   "version": "3.9.7"
  }
 },
 "nbformat": 4,
 "nbformat_minor": 5
}
