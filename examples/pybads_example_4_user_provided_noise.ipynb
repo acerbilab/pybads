{
 "cells": [
  {
   "cell_type": "markdown",
   "id": "e48db32f",
   "metadata": {},
   "source": [
    "# PyBADS Example 4: Noisy objective with user-provided noise estimates"
   ]
  },
  {
   "cell_type": "markdown",
   "id": "810b5d8b",
   "metadata": {},
   "source": [
    "In this example, we will show how to run PyBADS on a noisy target for which we can estimate the noise at each evaluation.\n",
    "\n",
    "This notebook is Part 4 of a series of notebooks in which we present various example usages for BADS with the PyBADS package."
   ]
  },
  {
   "cell_type": "code",
   "execution_count": 1,
   "id": "d0c7306b",
   "metadata": {},
   "outputs": [],
   "source": [
    "import numpy as np\n",
    "from pybads.bads.bads import BADS"
   ]
  },
  {
   "cell_type": "markdown",
   "id": "fccd1931",
   "metadata": {},
   "source": [
    "## 1. Problem setup\n",
    "\n",
    "We assume you are already familiar with optimization of noisy targets with PyBADS, as described in the [previous notebook](./pybads_example_3_noisy_objective.ipynb).\n",
    "\n",
    "Sometimes, you may be able to estimate the noise associated with *each* function evaluation, for example via bootstrap or more sophisticated estimation methods. If you can do that, it is highly recommended you do so and tell PyBADS by activating the `specify_target_noise` option.\n",
    "\n",
    "In the user-specified noise case, the target function `fun` is expected to return *two* outputs: \n",
    "- the noisy estimate of the function at `x` (as usual); \n",
    "- the estimate of the *standard deviation* of the noisy evaluation at `x`.\n",
    "\n",
    "In this toy example below, we know the standard deviation `sigma` by construction. Note that the function is *heteroskedastic*, that is, the noise depends on the input location `x`."
   ]
  },
  {
   "cell_type": "code",
   "execution_count": 2,
   "id": "192fbe30",
   "metadata": {},
   "outputs": [],
   "source": [
    "def noisy_sphere_estimated_noise(x,scale=1.0):\n",
    "    \"\"\"Quadratic function with heteroskedastic noise; also return noise estimate.\"\"\"\n",
    "    x_2d = np.atleast_2d(x)\n",
    "    f = np.sum(x_2d**2, axis=1)\n",
    "    sigma = scale*(1.0 + np.sqrt(f))\n",
    "    y = f + sigma*np.random.normal(size=x_2d.shape[0])\n",
    "    return y, sigma\n",
    "\n",
    "x0 = np.array([[-3, -3]]);      # Starting point\n",
    "lb = np.array([[-5, -5]])       # Lower bounds\n",
    "ub = np.array([[5, 5]])         # Upper bounds\n",
    "plb = np.array([[-2, -2]])      # Plausible lower bounds\n",
    "pub = np.array([[2, 2]])        # Plausible upper bounds\n",
    "\n",
    "options = {\n",
    "    \"uncertainty_handling\": True,\n",
    "    \"specify_target_noise\": True,\n",
    "    \"noise_final_samples\": 100\n",
    "}"
   ]
  },
  {
   "cell_type": "markdown",
   "id": "363e280e",
   "metadata": {},
   "source": [
    "## 2. Run the optimization\n",
    "\n",
    "As usual, we run `bads` with the user-defined `options`."
   ]
  },
  {
   "cell_type": "code",
   "execution_count": 3,
   "id": "853bf3c9",
   "metadata": {},
   "outputs": [
    {
     "name": "stdout",
     "output_type": "stream",
     "text": [
      "Beginning optimization of a STOCHASTIC objective function (specified noise)\n",
      "\n",
      " Iteration f-count     E[f(x)]     SD[f(x)]     MeshScale     Method     Actions\n",
      "     0         1      19.820677      5.242641      1.000000            \n",
      "     0        33      -3.487649      5.242641      1.000000     Initial mesh       Initial points\n",
      "     0        37      -3.487649      3.080754      0.500000     Refine grid       Train\n",
      "     1        45      -3.487649      3.080754      0.250000     Refine grid       Train\n",
      "     2        46       0.261489      0.409780      0.250000     Successful search (('ES-wcm', 1))       \n",
      "     2        47      -0.011499      0.396319      0.250000     Successful search (('ES-wcm', 1))       \n",
      "     2        48      -0.124810      0.373465      0.250000     Incremental search (('ES-wcm', 1))       \n",
      "     2        50      -0.197653      0.349715      0.250000     Incremental search (('ES-wcm', 1))       \n",
      "     2        51      -0.327266      0.335304      0.250000     Successful search (('ES-wcm', 1))       \n",
      "     2        61      -0.327266      0.335304      0.125000     Refine grid       \n",
      "     3        62      -0.184920      0.261764      0.125000     Successful search (('ES-ell', 1))       \n",
      "     3        65      -0.226369      0.242659      0.125000     Incremental search (('ES-ell', 1))       \n",
      "     3        73      -0.226369      0.242659      0.062500     Refine grid       \n",
      "     4        74      -0.062368      0.214847      0.062500     Successful search (('ES-ell', 1))       \n",
      "     4        85      -0.062368      0.214847      0.031250     Refine grid       \n",
      "     5        93      -0.018012      0.191006      0.007812     Refine grid       Train\n",
      "     6        95       0.083296      0.175506      0.007812     Successful search (('ES-wcm', 1))       \n",
      "     6        98       0.068704      0.169095      0.007812     Successful search (('ES-wcm', 1))       \n",
      "     6       103       0.063504      0.160531      0.007812     Successful search (('ES-ell', 1))       \n",
      "     6       113       0.063504      0.160531      0.003906     Refine grid       Train\n",
      "     7       121       0.129269      0.149879      0.001953     Refine grid       Train\n",
      "     8       122       0.120888      0.143034      0.001953     Successful search (('ES-ell', 1))       \n",
      "     8       127       0.095449      0.137698      0.001953     Successful search (('ES-ell', 1))       \n",
      "     8       131       0.089990      0.134012      0.001953     Successful search (('ES-ell', 1))       \n",
      "     8       132       0.083221      0.133627      0.001953     Successful search (('ES-ell', 1))       \n",
      "     8       141       0.079992      0.128379      0.003906     Successful poll       \n",
      "     9       142       0.084866      0.126422      0.003906     Successful search (('ES-wcm', 1))       \n",
      "     9       143       0.078626      0.127439      0.003906     Successful search (('ES-wcm', 1))       \n",
      "     9       144       0.074123      0.130858      0.003906     Successful search (('ES-wcm', 1))       \n",
      "     9       146       0.068497      0.132516      0.003906     Successful search (('ES-wcm', 1))       \n",
      "     9       151       0.051476      0.130816      0.003906     Successful search (('ES-wcm', 1))       \n",
      "     9       152       0.045838      0.134319      0.003906     Successful search (('ES-wcm', 1))       \n",
      "     9       153       0.045396      0.139440      0.003906     Incremental search (('ES-wcm', 1))       \n",
      "     9       154       0.039204      0.143863      0.003906     Successful search (('ES-wcm', 1))       \n",
      "     9       155       0.028695      0.157566      0.003906     Successful search (('ES-wcm', 1))       \n",
      "     9       161       0.013260      0.151778      0.003906     Successful search (('ES-ell', 1))       \n",
      "     9       169       0.013260      0.151778      0.001953     Refine grid       Train\n",
      "    10       177       0.033465      0.113238      0.000488     Refine grid       Train\n",
      "    11       185       0.010563      0.111104      0.000244     Refine grid       Train\n",
      "Optimization terminated: change in the function value less than options.TolFun.\n",
      "Estimated function value at minimum: -0.13313951410895197 ± 0.13654735080768468 (mean ± SEM from 100 samples)\n"
     ]
    }
   ],
   "source": [
    "bads = BADS(noisy_sphere_estimated_noise, x0, lb, ub, plb, pub, options=options)\n",
    "optimize_result = bads.optimize()"
   ]
  },
  {
   "cell_type": "markdown",
   "id": "4a7af7d8",
   "metadata": {},
   "source": [
    "## 3. Results and conclusions\n",
    "\n",
    "As per noisy target optimization, `optimize_result['fval']` is the *estimated* function value at `optimize_result['x']`, here obtained by taking the *weighted* mean of the final sampled evaluations (each evaluation is weighted by its precision, or inverse variance).\n",
    "\n",
    "The final samples can be found in `optimize_result['yval_vec']`, and their estimated standard deviation in `optimize_result['ysd_vec']`."
   ]
  },
  {
   "cell_type": "code",
   "execution_count": 4,
   "id": "6507b31a",
   "metadata": {},
   "outputs": [
    {
     "name": "stdout",
     "output_type": "stream",
     "text": [
      "BADS minimum at: x_min = [-0.19226074 -0.30297852], fval (estimated) = -0.1331 +/- 0.14\n",
      "total f-count: 286, time: 5.31 s\n",
      "final evaluations (shape): (100,)\n",
      "final evaluations SD (shape): (100,)\n"
     ]
    }
   ],
   "source": [
    "x_min = optimize_result['x']\n",
    "fval = optimize_result['fval']\n",
    "fsd = optimize_result['fsd']\n",
    "\n",
    "print(f\"BADS minimum at: x_min = {x_min.flatten()}, fval (estimated) = {fval:.4g} +/- {fsd:.2g}\")\n",
    "print(f\"total f-count: {optimize_result['func_count']}, time: {round(optimize_result['total_time'], 2)} s\")\n",
    "print(f\"final evaluations (shape): {optimize_result['yval_vec'].shape}\")\n",
    "print(f\"final evaluations SD (shape): {optimize_result['ysd_vec'].shape}\")"
   ]
  },
  {
   "cell_type": "markdown",
   "id": "499c04d1",
   "metadata": {},
   "source": [
    "We can also check the ground-truth value of the target function at the returned point once we remove the noise:"
   ]
  },
  {
   "cell_type": "code",
   "execution_count": 5,
   "id": "17089c5d",
   "metadata": {},
   "outputs": [
    {
     "name": "stdout",
     "output_type": "stream",
     "text": [
      "The true, noiseless value of f(x_min) is 0.129.\n"
     ]
    }
   ],
   "source": [
    "print(f\"The true, noiseless value of f(x_min) is {noisy_sphere_estimated_noise(x_min,scale=0)[0][0]:.3g}.\")"
   ]
  },
  {
   "cell_type": "markdown",
   "id": "d3ace561",
   "metadata": {},
   "source": [
    "Compare this to the true global minimum of the sphere function at $\\textbf{x}^\\star = [0,0]$, where $f^\\star = 0$.\n",
    "\n",
    "### Remarks\n",
    "\n",
    "- Due to the elevated level of noise, we do not necessarily expect high precision in the solution.\n",
    "\n",
    "- For more information on optimizing noisy objective functions, see the BADS wiki: https://github.com/acerbilab/bads/wiki#noisy-objective-function (this link points to the MATLAB wiki, but many of the questions and answers apply to PyBADS as well)."
   ]
  },
  {
   "cell_type": "markdown",
   "id": "83320a21",
   "metadata": {},
   "source": [
    "## Example 4: Full code\n",
    "\n",
    "See [here](./src/pybads_example_4_user_provided_noise.py) for a Python file with the code used in this example, with no extra fluff."
   ]
  },
  {
   "cell_type": "code",
   "execution_count": null,
   "id": "01f769e8",
   "metadata": {},
   "outputs": [],
   "source": []
  }
 ],
 "metadata": {
  "kernelspec": {
   "display_name": "Python 3 (ipykernel)",
   "language": "python",
   "name": "python3"
  },
  "language_info": {
   "codemirror_mode": {
    "name": "ipython",
    "version": 3
   },
   "file_extension": ".py",
   "mimetype": "text/x-python",
   "name": "python",
   "nbconvert_exporter": "python",
   "pygments_lexer": "ipython3",
   "version": "3.9.7"
  }
 },
 "nbformat": 4,
 "nbformat_minor": 5
}
