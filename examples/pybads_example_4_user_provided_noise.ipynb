{
 "cells": [
  {
   "cell_type": "markdown",
   "id": "e48db32f",
   "metadata": {},
   "source": [
    "# PyBADS Example 4: Noisy objective with user-provided noise estimates"
   ]
  },
  {
   "cell_type": "markdown",
   "id": "810b5d8b",
   "metadata": {},
   "source": [
    "In this example, we will show how to run PyBADS on a noisy target for which we can estimate the noise at each evaluation.\n",
    "\n",
    "This notebook is Part 4 of a series of notebooks in which we present various example usages for BADS with the PyBADS package."
   ]
  },
  {
   "cell_type": "code",
   "execution_count": 1,
   "id": "d0c7306b",
   "metadata": {},
   "outputs": [],
   "source": [
    "import numpy as np\n",
    "from pybads.bads.bads import BADS"
   ]
  },
  {
   "cell_type": "markdown",
   "id": "fccd1931",
   "metadata": {},
   "source": [
    "## 1. Problem setup\n",
    "\n",
    "We assume you are already familiar with optimization of noisy targets with PyBADS, as described in the [previous notebook](./pybads_example_3_noisy_objective.ipynb).\n",
    "\n",
    "Sometimes, you may be able to estimate the noise associated with *each* function evaluation, for example via bootstrap or more sophisticated estimation methods. If you can do that, it is highly recommended you do so and tell PyBADS by activating the `specify_target_noise` option.\n",
    "\n",
    "In the user-specified noise case, the target function `fun` is expected to return *two* outputs: \n",
    "- the noisy estimate of the function at `x` (as usual); \n",
    "- the estimate of the *standard deviation* of the noisy evaluation at `x`.\n",
    "\n",
    "In this toy example below, we know the standard deviation `sigma` by construction. Note that the function is *heteroskedastic*, that is, the noise depends on the input location `x`."
   ]
  },
  {
   "cell_type": "code",
   "execution_count": 2,
   "id": "192fbe30",
   "metadata": {},
   "outputs": [],
   "source": [
    "def noisy_sphere_estimated_noise(x,scale=1.0):\n",
    "    \"\"\"Quadratic function with heteroskedastic noise; also return noise estimate.\"\"\"\n",
    "    x_2d = np.atleast_2d(x)\n",
    "    f = np.sum(x_2d**2, axis=1)\n",
    "    sigma = scale*(1.0 + np.sqrt(f))\n",
    "    y = f + sigma*np.random.normal(size=x_2d.shape[0])\n",
    "    return y, sigma\n",
    "\n",
    "x0 = np.array([[-3, -3]]);      # Starting point\n",
    "lb = np.array([[-5, -5]])       # Lower bounds\n",
    "ub = np.array([[5, 5]])         # Upper bounds\n",
    "plb = np.array([[-2, -2]])      # Plausible lower bounds\n",
    "pub = np.array([[2, 2]])        # Plausible upper bounds\n",
    "\n",
    "options = {\n",
    "    \"uncertainty_handling\": True,\n",
    "    \"specify_target_noise\": True,\n",
    "    \"noise_final_samples\": 100\n",
    "}"
   ]
  },
  {
   "cell_type": "markdown",
   "id": "363e280e",
   "metadata": {},
   "source": [
    "## 2. Run the optimization\n",
    "\n",
    "As usual, we run `bads` with the user-defined `options`."
   ]
  },
  {
   "cell_type": "code",
   "execution_count": 3,
   "id": "853bf3c9",
   "metadata": {},
   "outputs": [
    {
     "name": "stdout",
     "output_type": "stream",
     "text": [
      "Beginning optimization of a STOCHASTIC objective function (specified noise)\n",
      "\n",
      " Iteration f-count     E[f(x)]     SD[f(x)]     MeshScale     Method     Actions\n",
      "     0         1      14.203262      5.242641      1.000000            \n",
      "     0        33      -2.968410      5.242641      1.000000     Initial mesh       Initial points\n",
      "     0        37      -2.968410      3.125122      0.500000     Refine grid       Train\n",
      "     1        45      -2.968410      3.125122      0.250000     Refine grid       Train\n",
      "     2        46       0.210596      0.506176      0.250000     Successful search (('ES-ell', 1))       \n",
      "     2        47      -0.220141      0.431814      0.250000     Successful search (('ES-wcm', 1))       \n",
      "     2        57      -0.220141      0.431814      0.125000     Refine grid       Train\n",
      "     3        65       0.336378      0.337519      0.062500     Refine grid       Train\n",
      "     4        73       0.531164      0.303230      0.031250     Refine grid       Train\n",
      "     5        74       0.662241      0.269667      0.031250     Successful search (('ES-ell', 1))       \n",
      "     5        76       0.606308      0.261375      0.031250     Successful search (('ES-wcm', 1))       \n",
      "     5        77       0.537140      0.287610      0.031250     Successful search (('ES-ell', 1))       \n",
      "     5        78       0.514305      0.306666      0.031250     Successful search (('ES-ell', 1))       \n",
      "     5        79       0.502368      0.346326      0.031250     Successful search (('ES-ell', 1))       \n",
      "     5        85       0.368263      0.282124      0.031250     Successful search (('ES-wcm', 1))       \n",
      "     5        87       0.319973      0.292608      0.031250     Successful search (('ES-wcm', 1))       \n",
      "     5        89       0.185037      0.308099      0.031250     Successful search (('ES-wcm', 1))       \n",
      "     5        91       0.179861      0.331213      0.031250     Incremental search (('ES-wcm', 1))       \n",
      "     5        97       0.179861      0.331213      0.015625     Refine grid       \n",
      "     6        98       0.137171      0.318687      0.015625     Successful search (('ES-wcm', 1))       \n",
      "     6       100       0.087978      0.335019      0.015625     Successful search (('ES-ell', 1))       \n",
      "     6       101      -0.116236      0.366567      0.015625     Successful search (('ES-ell', 1))       \n",
      "     6       109      -0.116236      0.366567      0.007812     Refine grid       \n",
      "     7       110       0.123268      0.240898      0.007812     Successful search (('ES-wcm', 1))       \n",
      "     7       111       0.053180      0.240427      0.007812     Successful search (('ES-wcm', 1))       \n",
      "     7       112      -0.006532      0.239861      0.007812     Successful search (('ES-wcm', 1))       \n",
      "     7       113      -0.110500      0.254907      0.007812     Successful search (('ES-wcm', 1))       \n",
      "     7       121      -0.110500      0.254907      0.003906     Refine grid       \n",
      "     8       125       0.047119      0.211992      0.003906     Incremental search (('ES-wcm', 1))       \n",
      "     8       129       0.027875      0.210578      0.007812     Successful poll       \n",
      "     9       130       0.078257      0.204977      0.007812     Successful search (('ES-wcm', 1))       \n",
      "     9       131       0.076121      0.200292      0.007812     Successful search (('ES-wcm', 1))       \n",
      "     9       132      -0.028166      0.192107      0.007812     Successful search (('ES-wcm', 1))       \n",
      "     9       133      -0.063203      0.202980      0.007812     Successful search (('ES-wcm', 1))       \n",
      "     9       135      -0.086760      0.199560      0.007812     Successful search (('ES-wcm', 1))       \n",
      "     9       136      -0.102599      0.199300      0.007812     Successful search (('ES-wcm', 1))       \n",
      "     9       137      -0.190925      0.202979      0.007812     Successful search (('ES-wcm', 1))       \n",
      "     9       145      -0.190925      0.202979      0.003906     Refine grid       Train\n",
      "    10       147      -0.091046      0.226149      0.003906     Successful search (('ES-ell', 1))       \n",
      "    10       157      -0.091046      0.226149      0.001953     Refine grid       Train\n",
      "    11       165      -0.025034      0.152696      0.003906     Successful poll       Train\n",
      "    12       168      -0.000135      0.176678      0.003906     Successful search (('ES-wcm', 1))       \n",
      "    12       177      -0.000135      0.176678      0.001953     Refine grid       Train\n",
      "    13       185       0.044048      0.137226      0.003906     Successful poll       Train\n",
      "    14       193       0.066826      0.173543      0.001953     Refine grid       Train\n",
      "    15       194       0.076230      0.177189      0.001953     Successful search (('ES-ell', 1))       \n",
      "    15       197       0.069868      0.174673      0.001953     Successful search (('ES-ell', 1))       \n",
      "    15       198       0.063719      0.176072      0.001953     Successful search (('ES-wcm', 1))       \n",
      "    15       201       0.018888      0.168013      0.001953     Successful search (('ES-wcm', 1))       \n",
      "    15       202      -0.013071      0.169959      0.001953     Successful search (('ES-wcm', 1))       \n",
      "    15       213      -0.013071      0.169959      0.000977     Refine grid       Train\n",
      "    16       221       0.018468      0.144480      0.000488     Refine grid       Train\n",
      "    17       229       0.110676      0.140113      0.000244     Refine grid       Train\n",
      "    18       230       0.096528      0.138322      0.000244     Successful search (('ES-ell', 1))       \n",
      "    18       232       0.083450      0.149409      0.000244     Successful search (('ES-ell', 1))       \n",
      "    18       233       0.070406      0.148055      0.000244     Successful search (('ES-ell', 1))       \n",
      "    18       234       0.051026      0.146914      0.000244     Successful search (('ES-ell', 1))       \n",
      "    18       235       0.033622      0.146150      0.000244     Successful search (('ES-ell', 1))       \n",
      "    18       236       0.007345      0.144957      0.000244     Successful search (('ES-wcm', 1))       \n",
      "    18       237      -0.018311      0.144066      0.000244     Successful search (('ES-wcm', 1))       \n",
      "    18       238      -0.042958      0.143147      0.000244     Successful search (('ES-wcm', 1))       \n",
      "    18       239      -0.062196      0.142282      0.000244     Successful search (('ES-wcm', 1))       \n",
      "    18       249      -0.062196      0.142282      0.000122     Refine grid       \n",
      "Optimization terminated: change in the function value less than options.TolFun.\n",
      "Estimated function value at minimum: 0.09937183619329203 ± 0.13090483045579066 (mean ± SEM from 100 samples)\n"
     ]
    }
   ],
   "source": [
    "bads = BADS(noisy_sphere_estimated_noise, x0, lb, ub, plb, pub, options=options)\n",
    "optimize_result = bads.optimize()"
   ]
  },
  {
   "cell_type": "markdown",
   "id": "4a7af7d8",
   "metadata": {},
   "source": [
    "## 3. Results and conclusions\n",
    "\n",
    "As per noisy target optimization, `optimize_result['fval']` is the *estimated* function value at `optimize_result['x']`, here obtained by taking the *weighted* mean of the final sampled evaluations (each evaluation is weighted by its precision, or inverse variance).\n",
    "\n",
    "The final samples can be found in `optimize_result['yval_vec']`, and their estimated standard deviation in `optimize_result['ysd_vec']`."
   ]
  },
  {
   "cell_type": "code",
   "execution_count": 4,
   "id": "6507b31a",
   "metadata": {},
   "outputs": [
    {
     "name": "stdout",
     "output_type": "stream",
     "text": [
      "BADS minimum at: x_min = [0.31769451 0.10606959], fval (estimated) = 0.09937 +/- 0.13\n",
      "total f-count: 350, time: 8.85 s\n",
      "final evaluations (shape): (100,)\n"
     ]
    }
   ],
   "source": [
    "x_min = optimize_result['x']\n",
    "fval = optimize_result['fval']\n",
    "fsd = optimize_result['fsd']\n",
    "\n",
    "print(f\"BADS minimum at: x_min = {x_min.flatten()}, fval (estimated) = {fval:.4g} +/- {fsd:.2g}\")\n",
    "print(f\"total f-count: {optimize_result['func_count']}, time: {round(optimize_result['total_time'], 2)} s\")\n",
    "print(f\"final evaluations (shape): {optimize_result['yval_vec'].shape}\")"
   ]
  },
  {
   "cell_type": "markdown",
   "id": "499c04d1",
   "metadata": {},
   "source": [
    "We can also check the ground-truth value of the target function at the returned point once we remove the noise:"
   ]
  },
  {
   "cell_type": "code",
   "execution_count": 5,
   "id": "17089c5d",
   "metadata": {},
   "outputs": [
    {
     "name": "stdout",
     "output_type": "stream",
     "text": [
      "The true, noiseless value of f(x_min) is 0.112.\n"
     ]
    }
   ],
   "source": [
    "print(f\"The true, noiseless value of f(x_min) is {noisy_sphere_estimated_noise(x_min,scale=0)[0][0]:.3g}.\")"
   ]
  },
  {
   "cell_type": "markdown",
   "id": "d3ace561",
   "metadata": {},
   "source": [
    "Compare this to the true global minimum of the sphere function at $\\textbf{x}^\\star = [0,0]$, where $f^\\star = 0$.\n",
    "\n",
    "Due to the elevated level of noise, we do not necessarily expect high precision in the solution"
   ]
  },
  {
   "cell_type": "markdown",
   "id": "83320a21",
   "metadata": {},
   "source": [
    "## Example 4: Full code\n",
    "\n",
    "See [here](./src/pybads_example_4_user_provided_noise.py) for a Python file with the code used in this example, with no extra fluff."
   ]
  },
  {
   "cell_type": "code",
   "execution_count": null,
   "id": "01f769e8",
   "metadata": {},
   "outputs": [],
   "source": []
  }
 ],
 "metadata": {
  "kernelspec": {
   "display_name": "Python 3 (ipykernel)",
   "language": "python",
   "name": "python3"
  },
  "language_info": {
   "codemirror_mode": {
    "name": "ipython",
    "version": 3
   },
   "file_extension": ".py",
   "mimetype": "text/x-python",
   "name": "python",
   "nbconvert_exporter": "python",
   "pygments_lexer": "ipython3",
   "version": "3.9.7"
  }
 },
 "nbformat": 4,
 "nbformat_minor": 5
}
