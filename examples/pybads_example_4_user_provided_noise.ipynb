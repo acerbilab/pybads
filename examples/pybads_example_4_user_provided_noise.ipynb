{
 "cells": [
  {
   "cell_type": "markdown",
   "id": "e48db32f",
   "metadata": {},
   "source": [
    "# PyBADS Example 4: Noisy objective with user-provided noise estimates"
   ]
  },
  {
   "cell_type": "markdown",
   "id": "810b5d8b",
   "metadata": {},
   "source": [
    "In this example, we will show how to run PyBADS on a noisy target for which we can estimate the noise at each evaluation.\n",
    "\n",
    "This notebook is Part 4 of a series of notebooks in which we present various example usages for BADS with the PyBADS package."
   ]
  },
  {
   "cell_type": "code",
   "execution_count": 1,
   "id": "d0c7306b",
   "metadata": {},
   "outputs": [],
   "source": [
    "import numpy as np\n",
    "from pybads.bads.bads import BADS"
   ]
  },
  {
   "cell_type": "markdown",
   "id": "fccd1931",
   "metadata": {},
   "source": [
    "## 1. Problem setup\n",
    "\n",
    "We assume you are already familiar with optimization of noisy targets with PyBADS, as described in the [previous notebook](./pybads_example_3_noisy_objective.ipynb).\n",
    "\n",
    "Sometimes, you may be able to estimate the noise associated with *each* function evaluation, for example via bootstrap or more sophisticated estimation methods. If you can do that, it is highly recommended you do so and tell PyBADS by activating the `specify_target_noise` option.\n",
    "\n",
    "In the user-specified noise case, the target function `fun` is expected to return *two* outputs: \n",
    "- the noisy estimate of the function at `x` (as usual); \n",
    "- the estimate of the *standard deviation* of the noisy evaluation at `x`.\n",
    "\n",
    "In this toy example below, we know the standard deviation `sigma` by construction. Note that the function is *heteroskedastic*, that is, the noise depends on the input location `x`."
   ]
  },
  {
   "cell_type": "code",
   "execution_count": 2,
   "id": "192fbe30",
   "metadata": {},
   "outputs": [],
   "source": [
    "def noisy_sphere_estimated_noise(x,scale=1.0):\n",
    "    \"\"\"Quadratic function with heteroskedastic noise; also return noise estimate.\"\"\"\n",
    "    x_2d = np.atleast_2d(x)\n",
    "    f = np.sum(x_2d**2, axis=1)\n",
    "    sigma = scale*(1.0 + np.sqrt(f))\n",
    "    y = f + sigma*np.random.normal(size=x_2d.shape[0])\n",
    "    return y, sigma\n",
    "\n",
    "x0 = np.array([[-3, -3]]);      # Starting point\n",
    "lb = np.array([[-5, -5]])       # Lower bounds\n",
    "ub = np.array([[5, 5]])         # Upper bounds\n",
    "plb = np.array([[-2, -2]])      # Plausible lower bounds\n",
    "pub = np.array([[2, 2]])        # Plausible upper bounds\n",
    "\n",
    "options = {\n",
    "    \"uncertainty_handling\": True,\n",
    "    \"specify_target_noise\": True,\n",
    "    \"noise_final_samples\": 100\n",
    "}"
   ]
  },
  {
   "cell_type": "markdown",
   "id": "363e280e",
   "metadata": {},
   "source": [
    "## 2. Run the optimization\n",
    "\n",
    "As usual, we run `bads` with the user-defined `options`."
   ]
  },
  {
   "cell_type": "code",
   "execution_count": 3,
   "id": "853bf3c9",
   "metadata": {},
   "outputs": [
    {
     "name": "stdout",
     "output_type": "stream",
     "text": [
      "Beginning optimization of a STOCHASTIC objective function (specified noise)\n",
      "\n",
      " Iteration f-count     E[f(x)]     SD[f(x)]     MeshScale     Method     Actions\n",
      "     0         1      17.621154      5.242641      1.000000            \n",
      "     0        33      -2.525896      5.242641      1.000000     Initial mesh       Initial points\n",
      "     0        37      -2.525896      2.909325      0.500000     Refine grid       Train\n"
     ]
    },
    {
     "name": "stderr",
     "output_type": "stream",
     "text": [
      "c:\\users\\luigi\\documents\\github\\gpyreg\\gpyreg\\covariance_functions.py:376: RuntimeWarning: invalid value encountered in add\n",
      "  plausible_lower_bounds[i_nan] + plausible_upper_bounds[i_nan]\n"
     ]
    },
    {
     "name": "stdout",
     "output_type": "stream",
     "text": [
      "     1        45      -2.525896      2.909325      0.250000     Refine grid       Train\n",
      "     2        46       1.028197      0.610765      0.250000     Successful search (('ES-wcm', 1))       \n",
      "     2        47      -0.314407      0.824240      0.250000     Successful search (('ES-wcm', 1))       \n",
      "     2        49      -0.674746      0.650137      0.250000     Successful search (('ES-ell', 1))       \n",
      "     2        57      -0.674746      0.650137      0.125000     Refine grid       Train\n",
      "     3        58      -0.226220      0.368633      0.125000     Successful search (('ES-ell', 1))       \n",
      "     3        69      -0.226220      0.368633      0.062500     Refine grid       Train\n",
      "     4        70       0.087989      0.315454      0.062500     Successful search (('ES-wcm', 1))       \n",
      "     4        71       0.071722      0.391966      0.062500     Successful search (('ES-wcm', 1))       \n",
      "     4        76      -0.006757      0.291402      0.062500     Successful search (('ES-ell', 1))       \n",
      "     4        78      -0.034174      0.368998      0.062500     Successful search (('ES-ell', 1))       \n",
      "     4        89      -0.034174      0.368998      0.031250     Refine grid       Train\n",
      "     5        97       0.076051      0.257758      0.015625     Refine grid       Train\n",
      "     6        98       0.085612      0.332517      0.015625     Successful search (('ES-wcm', 1))       \n",
      "     6       109       0.085612      0.332517      0.007812     Refine grid       \n",
      "     7       110       0.076141      0.253401      0.007812     Successful search (('ES-ell', 1))       \n",
      "     7       121       0.076141      0.253401      0.003906     Refine grid       \n",
      "     8       129       0.397293      0.211625      0.001953     Refine grid       \n",
      "     9       137       0.458244      0.201402      0.000977     Refine grid       Train\n",
      "    10       140       0.474951      0.198875      0.000977     Successful search (('ES-wcm', 1))       \n",
      "    10       141       0.470290      0.196378      0.000977     Successful search (('ES-wcm', 1))       \n",
      "    10       142       0.422316      0.193830      0.000977     Successful search (('ES-wcm', 1))       \n",
      "    10       143       0.373787      0.191123      0.000977     Successful search (('ES-wcm', 1))       \n",
      "    10       144       0.351257      0.187991      0.000977     Successful search (('ES-wcm', 1))       \n",
      "    10       146       0.314256      0.183527      0.000977     Successful search (('ES-wcm', 1))       \n",
      "    10       147       0.312569      0.180908      0.000977     Successful search (('ES-wcm', 1))       \n",
      "    10       155       0.287539      0.160920      0.001953     Successful poll       Train\n",
      "    11       163       0.290392      0.161788      0.000977     Refine grid       Train\n",
      "    12       164       0.314535      0.153060      0.000977     Successful search (('ES-wcm', 1))       \n",
      "    12       175       0.314535      0.153060      0.000488     Refine grid       \n",
      "    13       176       0.388006      0.143819      0.000488     Successful search (('ES-ell', 1))       \n",
      "    13       178       0.380520      0.144026      0.000488     Successful search (('ES-wcm', 1))       \n",
      "    13       187       0.380520      0.144026      0.000244     Refine grid       \n",
      "    14       189       0.429496      0.137552      0.000244     Incremental search (('ES-wcm', 1))       \n",
      "    14       195       0.429496      0.137552      0.000122     Refine grid       \n",
      "    15       198       0.417348      0.130506      0.000122     Successful search (('ES-ell', 1))       \n",
      "    15       202       0.415954      0.129953      0.000122     Successful search (('ES-ell', 1))       \n",
      "    15       203       0.390780      0.129261      0.000122     Successful search (('ES-ell', 1))       \n",
      "    15       204       0.384496      0.128582      0.000122     Successful search (('ES-ell', 1))       \n",
      "    15       207       0.364337      0.126657      0.000122     Successful search (('ES-ell', 1))       \n",
      "    15       215       0.364337      0.126657      0.000061     Refine grid       \n",
      "    16       216       0.398841      0.122162      0.000061     Successful search (('ES-ell', 1))       \n",
      "    16       217       0.393301      0.121579      0.000061     Successful search (('ES-ell', 1))       \n",
      "    16       227       0.393301      0.121579      0.000031     Refine grid       \n",
      "    17       235       0.445632      0.117867      0.000015     Refine grid       Train\n",
      "    18       239       0.441824      0.113689      0.000015     Successful search (('ES-wcm', 1))       \n",
      "    18       240       0.421610      0.113240      0.000015     Successful search (('ES-wcm', 1))       \n",
      "    18       251       0.421610      0.113240      0.000008     Refine grid       \n",
      "    19       252       0.452536      0.109430      0.000008     Successful search (('ES-wcm', 1))       \n",
      "    19       255       0.450918      0.109622      0.000008     Successful search (('ES-wcm', 1))       \n",
      "    19       263       0.450918      0.109622      0.000004     Refine grid       \n",
      "    20       264       0.426487      0.105934      0.000004     Successful search (('ES-wcm', 1))       \n",
      "    20       275       0.426487      0.105934      0.000002     Refine grid       \n",
      "Optimization terminated: change in the function value less than options.TolFun.\n",
      "Estimated function value at minimum: 0.39514708541828575 ± 0.17235075089624646 (mean ± SEM from 100 samples)\n"
     ]
    }
   ],
   "source": [
    "bads = BADS(noisy_sphere_estimated_noise, x0, lb, ub, plb, pub, options=options)\n",
    "optimize_result = bads.optimize()"
   ]
  },
  {
   "cell_type": "markdown",
   "id": "4a7af7d8",
   "metadata": {},
   "source": [
    "## 3. Results and conclusions\n",
    "\n",
    "As per noisy target optimization, `optimize_result['fval']` is the *estimated* function value at `optimize_result['x']`, here obtained by taking the *weighted* mean of the final sampled evaluations (each evaluation is weighted by its precision, or inverse variance).\n",
    "\n",
    "The final samples can be found in `optimize_result['yval_vec']`, and their estimated standard deviation in `optimize_result['ysd_vec']`."
   ]
  },
  {
   "cell_type": "code",
   "execution_count": 4,
   "id": "6507b31a",
   "metadata": {},
   "outputs": [
    {
     "name": "stdout",
     "output_type": "stream",
     "text": [
      "BADS minimum at: x_min = [-0.09112008 -0.63206721], fval (estimated) = 0.3951 +/- 0.17\n",
      "total f-count: 376, time: 10.12 s\n",
      "final evaluations (shape): (100,)\n"
     ]
    }
   ],
   "source": [
    "x_min = optimize_result['x']\n",
    "fval = optimize_result['fval']\n",
    "fsd = optimize_result['fsd']\n",
    "\n",
    "print(f\"BADS minimum at: x_min = {x_min.flatten()}, fval (estimated) = {fval:.4g} +/- {fsd:.2g}\")\n",
    "print(f\"total f-count: {optimize_result['func_count']}, time: {round(optimize_result['total_time'], 2)} s\")\n",
    "print(f\"final evaluations (shape): {optimize_result['yval_vec'].shape}\")"
   ]
  },
  {
   "cell_type": "markdown",
   "id": "499c04d1",
   "metadata": {},
   "source": [
    "We can also check the ground-truth value of the target function at the returned point once we remove the noise:"
   ]
  },
  {
   "cell_type": "code",
   "execution_count": 5,
   "id": "17089c5d",
   "metadata": {},
   "outputs": [
    {
     "name": "stdout",
     "output_type": "stream",
     "text": [
      "The true, noiseless value of f(x_min) is 0.408.\n"
     ]
    }
   ],
   "source": [
    "print(f\"The true, noiseless value of f(x_min) is {noisy_sphere_estimated_noise(x_min,scale=0)[0][0]:.3g}.\")"
   ]
  },
  {
   "cell_type": "markdown",
   "id": "d3ace561",
   "metadata": {},
   "source": [
    "Compare this to the true global minimum of the sphere function at $\\textbf{x}^\\star = [0,0]$, where $f^\\star = 0$.\n",
    "\n",
    "Due to the elevated level of noise, we do not necessarily expect high precision in the solution"
   ]
  },
  {
   "cell_type": "markdown",
   "id": "83320a21",
   "metadata": {},
   "source": [
    "## Example 4: Full code\n",
    "\n",
    "See [here](./src/pybads_example_4_user_provided_noise.py) for a Python file with the code used in this example, with no extra fluff."
   ]
  },
  {
   "cell_type": "code",
   "execution_count": null,
   "id": "42b5e375",
   "metadata": {},
   "outputs": [],
   "source": []
  }
 ],
 "metadata": {
  "kernelspec": {
   "display_name": "Python 3 (ipykernel)",
   "language": "python",
   "name": "python3"
  },
  "language_info": {
   "codemirror_mode": {
    "name": "ipython",
    "version": 3
   },
   "file_extension": ".py",
   "mimetype": "text/x-python",
   "name": "python",
   "nbconvert_exporter": "python",
   "pygments_lexer": "ipython3",
   "version": "3.9.7"
  }
 },
 "nbformat": 4,
 "nbformat_minor": 5
}
