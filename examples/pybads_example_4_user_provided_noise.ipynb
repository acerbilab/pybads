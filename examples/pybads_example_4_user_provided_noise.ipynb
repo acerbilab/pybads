{
 "cells": [
  {
   "cell_type": "markdown",
   "id": "e48db32f",
   "metadata": {},
   "source": [
    "# PyBADS Example 4: Noisy objective with user-provided noise estimates"
   ]
  },
  {
   "cell_type": "markdown",
   "id": "810b5d8b",
   "metadata": {},
   "source": [
    "In this example, we will show how to run PyBADS on a noisy target for which we can estimate the noise at each evaluation.\n",
    "\n",
    "This notebook is Part 4 of a series of notebooks in which we present various example usages for BADS with the PyBADS package.\n",
    "The code used in this example is available as a script [here](./scripts/pybads_example_4_user_provided_noise.py)."
   ]
  },
  {
   "cell_type": "code",
   "execution_count": 1,
   "id": "d0c7306b",
   "metadata": {},
   "outputs": [],
   "source": [
    "import numpy as np\n",
    "from pybads import BADS"
   ]
  },
  {
   "cell_type": "markdown",
   "id": "fccd1931",
   "metadata": {},
   "source": [
    "## 1. Problem setup\n",
    "\n",
    "We assume you are already familiar with optimization of noisy targets with PyBADS, as described in the [previous notebook](./pybads_example_3_noisy_objective.ipynb).\n",
    "\n",
    "Sometimes, you may be able to estimate the noise associated with *each* function evaluation, for example via bootstrap or more sophisticated estimation methods such as [inverse binomial sampling](https://github.com/acerbilab/ibs). If you can do that, it is highly recommended you do so and tell PyBADS by activating the `specify_target_noise` option.\n",
    "\n",
    "In the user-specified noise case, the target function `fun` is expected to return *two* outputs: \n",
    "- the (noisy) estimate of the function at `x` (as usual); \n",
    "- the estimate of the *standard deviation* of the noisy evaluation at `x`.\n",
    "\n",
    "In this toy example below, we know the standard deviation `sigma` by construction. Note that the function is *heteroskedastic*, that is, the noise depends on the input location `x`."
   ]
  },
  {
   "cell_type": "code",
   "execution_count": 2,
   "id": "192fbe30",
   "metadata": {},
   "outputs": [],
   "source": [
    "def noisy_sphere_estimated_noise(x,scale=1.0):\n",
    "    \"\"\"Quadratic function with heteroskedastic noise; also return noise estimate.\"\"\"\n",
    "    x_2d = np.atleast_2d(x)\n",
    "    f = np.sum(x_2d**2, axis=1)\n",
    "    sigma = scale*(1.0 + np.sqrt(f))\n",
    "    y = f + sigma*np.random.normal(size=x_2d.shape[0])\n",
    "    return y, sigma\n",
    "\n",
    "x0 = np.array([-3, -3]);      # Starting point\n",
    "lower_bounds = np.array([-5, -5])\n",
    "upper_bounds = np.array([5, 5])\n",
    "plausible_lower_bounds = np.array([-2, -2])\n",
    "plausible_upper_bounds = np.array([2, 2])\n",
    "\n",
    "options = {\n",
    "    \"uncertainty_handling\": True,\n",
    "    \"specify_target_noise\": True,\n",
    "    \"noise_final_samples\": 100\n",
    "}"
   ]
  },
  {
   "cell_type": "markdown",
   "id": "363e280e",
   "metadata": {},
   "source": [
    "## 2. Run the optimization\n",
    "\n",
    "As usual, we run `bads` with the user-defined `options`."
   ]
  },
  {
   "cell_type": "code",
   "execution_count": 3,
   "id": "853bf3c9",
   "metadata": {},
   "outputs": [
    {
     "name": "stdout",
     "output_type": "stream",
     "text": [
      "Beginning optimization of a STOCHASTIC objective function (specified noise)\n",
      "\n",
      " Iteration    f-count      E[f(x)]        SD[f(x)]           MeshScale          Method              Actions\n",
      "     0           1         18.9784         5.24264               1                                  \n",
      "     0          33        -4.02252         5.24264               1          Initial mesh            Initial points\n",
      "     0          37        -4.02252         1.61329             0.5          Refine grid             Train\n",
      "     1          45        -4.02252         1.61329            0.25          Refine grid             Train\n",
      "     2          53        -2.90428         1.13226           0.125          Refine grid             Train\n",
      "     3          55        -1.73253         0.83261           0.125      Incremental search (ES-wcm)        \n",
      "     3          61        -1.73253         0.83261          0.0625          Refine grid             \n",
      "     4          63        -1.67026        0.793359          0.0625      Incremental search (ES-wcm)        \n",
      "     4          65        -1.97766        0.600277          0.0625      Successful search (ES-ell)        \n",
      "     4          73        -1.97766        0.600277         0.03125          Refine grid             \n",
      "     5          74       -0.684892        0.716024         0.03125      Successful search (ES-ell)        \n",
      "     5          75        -1.87218        0.857695         0.03125      Successful search (ES-ell)        \n",
      "     5          85        -1.87218        0.857695        0.015625          Refine grid             \n",
      "     6          86        -1.04099        0.398253        0.015625      Successful search (ES-ell)        \n",
      "     6          97        -1.04099        0.398253       0.0078125          Refine grid             \n",
      "     7         105       -0.567396         0.35154      0.00390625          Refine grid             \n",
      "     8         113       -0.399827        0.551713      0.00195312          Refine grid             Train\n",
      "     9         114       -0.195597        0.232844      0.00195312      Successful search (ES-ell)        \n",
      "     9         117        -0.19872        0.225381      0.00195312      Successful search (ES-ell)        \n",
      "     9         118       -0.253628        0.228964      0.00195312      Successful search (ES-ell)        \n",
      "     9         121       -0.266361        0.221564      0.00195312      Successful search (ES-ell)        \n",
      "     9         129       -0.266361        0.221564     0.000976562          Refine grid             \n",
      "    10         131       -0.317293        0.200801     0.000976562      Successful search (ES-wcm)        \n",
      "    10         141       -0.317293        0.200801     0.000488281          Refine grid             \n",
      "    11         149       -0.235157        0.175488     0.000244141          Refine grid             \n",
      "    12         150       -0.233286        0.158662     0.000244141      Successful search (ES-wcm)        \n",
      "    12         151       -0.246217        0.157968     0.000244141      Successful search (ES-wcm)        \n",
      "    12         152       -0.258611        0.158069     0.000244141      Successful search (ES-wcm)        \n",
      "    12         153       -0.296311        0.158371     0.000244141      Successful search (ES-wcm)        \n",
      "    12         155        -1.00632        0.655931     0.000244141      Successful search (ES-wcm)        \n",
      "    12         165        -1.00632        0.655931      0.00012207          Refine grid             \n",
      "    13         173       -0.224599        0.139041     6.10352e-05          Refine grid             \n",
      "    14         175       -0.239239         0.13068     6.10352e-05      Successful search (ES-ell)        \n",
      "    14         185       -0.239239         0.13068     3.05176e-05          Refine grid             \n",
      "    15         186       -0.183471        0.113691     3.05176e-05      Successful search (ES-wcm)        \n",
      "    15         197       -0.215799        0.118351     6.10352e-05        Successful poll           \n",
      "    16         198       -0.230953        0.117231     6.10352e-05      Successful search (ES-wcm)        \n",
      "    16         199        -1.24271        0.504221     6.10352e-05      Successful search (ES-wcm)        \n",
      "    16         209        -1.24271        0.504221     3.05176e-05          Refine grid             \n",
      "    17         210       -0.491601        0.307939     3.05176e-05      Successful search (ES-wcm)        \n",
      "    17         211       -0.538679        0.300047     3.05176e-05      Successful search (ES-wcm)        \n",
      "    17         221       -0.538679        0.300047     1.52588e-05          Refine grid             Train\n",
      "    18         223       -0.484486        0.325325     1.52588e-05      Successful search (ES-wcm)        \n",
      "    18         233       -0.484486        0.325325     7.62939e-06          Refine grid             Train\n",
      "    19         235       -0.720827        0.403886     7.62939e-06      Successful search (ES-ell)        \n",
      "    19         245       -0.720827        0.403886      3.8147e-06          Refine grid             Train\n",
      "    20         246       -0.719821        0.294047      3.8147e-06      Successful search (ES-ell)        \n",
      "    20         257       -0.719821        0.294047     1.90735e-06          Refine grid             Train\n",
      "    21         258       -0.649179        0.274621     1.90735e-06      Successful search (ES-wcm)        \n",
      "    21         269       -0.649179        0.274621     9.53674e-07          Refine grid             Train\n",
      "Optimization terminated: change in the function value less than options.tol_mesh\n",
      "Estimated function value at minimum: 0.07237149259065669 ± 0.13291205987188698 (mean ± SEM from 100 samples)\n"
     ]
    }
   ],
   "source": [
    "bads = BADS(\n",
    "    noisy_sphere_estimated_noise, x0, lower_bounds, upper_bounds, plausible_lower_bounds, plausible_upper_bounds, \n",
    "    options=options\n",
    ")\n",
    "optimize_result = bads.optimize()"
   ]
  },
  {
   "cell_type": "markdown",
   "id": "4a7af7d8",
   "metadata": {},
   "source": [
    "## 3. Results and conclusions\n",
    "\n",
    "As per noisy target optimization, `optimize_result['fval']` is the *estimated* function value at `optimize_result['x']`, here obtained by taking the *weighted* mean of the final sampled evaluations (each evaluation is weighted by its precision, or inverse variance).\n",
    "\n",
    "The final samples can be found in `optimize_result['yval_vec']`, and their estimated standard deviation in `optimize_result['ysd_vec']`."
   ]
  },
  {
   "cell_type": "code",
   "execution_count": 4,
   "id": "6507b31a",
   "metadata": {},
   "outputs": [
    {
     "name": "stdout",
     "output_type": "stream",
     "text": [
      "BADS minimum at: x_min = [-0.3096012   0.13322558], fval (estimated) = 0.07237 +/- 0.13\n",
      "total f-count: 369, time: 9.57 s\n",
      "final evaluations (shape): (100,)\n",
      "final evaluations SD (shape): (100,)\n"
     ]
    }
   ],
   "source": [
    "x_min = optimize_result['x']\n",
    "fval = optimize_result['fval']\n",
    "fsd = optimize_result['fsd']\n",
    "\n",
    "print(f\"BADS minimum at: x_min = {x_min.flatten()}, fval (estimated) = {fval:.4g} +/- {fsd:.2g}\")\n",
    "print(f\"total f-count: {optimize_result['func_count']}, time: {round(optimize_result['total_time'], 2)} s\")\n",
    "print(f\"final evaluations (shape): {optimize_result['yval_vec'].shape}\")\n",
    "print(f\"final evaluations SD (shape): {optimize_result['ysd_vec'].shape}\")"
   ]
  },
  {
   "cell_type": "markdown",
   "id": "499c04d1",
   "metadata": {},
   "source": [
    "We can also check the ground-truth value of the target function at the returned point once we remove the noise:"
   ]
  },
  {
   "cell_type": "code",
   "execution_count": 5,
   "id": "17089c5d",
   "metadata": {},
   "outputs": [
    {
     "name": "stdout",
     "output_type": "stream",
     "text": [
      "The true, noiseless value of f(x_min) is 0.114.\n"
     ]
    }
   ],
   "source": [
    "print(f\"The true, noiseless value of f(x_min) is {noisy_sphere_estimated_noise(x_min,scale=0)[0][0]:.3g}.\")"
   ]
  },
  {
   "cell_type": "markdown",
   "id": "d3ace561",
   "metadata": {},
   "source": [
    "Compare this to the true global minimum of the sphere function at $\\textbf{x}^\\star = [0,0]$, where $f^\\star = 0$.\n",
    "\n",
    "### Remarks\n",
    "\n",
    "- Due to the elevated level of noise, we do not necessarily expect high precision in the solution.\n",
    "\n",
    "- For more information on optimizing noisy objective functions, see the BADS wiki: https://github.com/acerbilab/bads/wiki#noisy-objective-function (this link points to the MATLAB wiki, but many of the questions and answers apply to PyBADS as well)."
   ]
  }
 ],
 "metadata": {
  "kernelspec": {
   "display_name": "Python 3 (ipykernel)",
   "language": "python",
   "name": "python3"
  },
  "language_info": {
   "codemirror_mode": {
    "name": "ipython",
    "version": 3
   },
   "file_extension": ".py",
   "mimetype": "text/x-python",
   "name": "python",
   "nbconvert_exporter": "python",
   "pygments_lexer": "ipython3",
   "version": "3.9.16"
  },
  "vscode": {
   "interpreter": {
    "hash": "5f12204c93c4274de084c6b76e73171147c8e51a8507bf20dfb1db4f14f6829f"
   }
  }
 },
 "nbformat": 4,
 "nbformat_minor": 5
}
