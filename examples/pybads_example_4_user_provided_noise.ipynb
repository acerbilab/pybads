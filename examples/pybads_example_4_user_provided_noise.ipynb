{
 "cells": [
  {
   "cell_type": "markdown",
   "id": "e48db32f",
   "metadata": {},
   "source": [
    "# PyBADS Example 4: Noisy objective with user-provided noise estimates"
   ]
  },
  {
   "cell_type": "markdown",
   "id": "810b5d8b",
   "metadata": {},
   "source": [
    "In this example, we will show how to run PyBADS on a noisy target for which we can estimate the noise at each evaluation.\n",
    "\n",
    "This notebook is Part 4 of a series of notebooks in which we present various example usages for BADS with the PyBADS package.\n",
    "The code used in this example is available as a script [here](./scripts/pybads_example_4_user_provided_noise.py)."
   ]
  },
  {
   "cell_type": "code",
   "execution_count": 1,
   "id": "d0c7306b",
   "metadata": {},
   "outputs": [],
   "source": [
    "import numpy as np\n",
    "from pybads import BADS"
   ]
  },
  {
   "cell_type": "markdown",
   "id": "fccd1931",
   "metadata": {},
   "source": [
    "## 1. Problem setup\n",
    "\n",
    "We assume you are already familiar with optimization of noisy targets with PyBADS, as described in the [previous notebook](./pybads_example_3_noisy_objective.ipynb).\n",
    "\n",
    "Sometimes, you may be able to estimate the noise associated with *each* function evaluation, for example via bootstrap or more sophisticated estimation methods such as [inverse binomial sampling](https://github.com/acerbilab/ibs). If you can do that, it is highly recommended you do so and tell PyBADS by activating the `specify_target_noise` option.\n",
    "\n",
    "In the user-specified noise case, the target function `fun` is expected to return *two* outputs: \n",
    "- the (noisy) estimate of the function at `x` (as usual); \n",
    "- the estimate of the *standard deviation* of the noisy evaluation at `x`.\n",
    "\n",
    "In this toy example below, we know the standard deviation `sigma` by construction. Note that the function is *heteroskedastic*, that is, the noise depends on the input location `x`."
   ]
  },
  {
   "cell_type": "code",
   "execution_count": 2,
   "id": "192fbe30",
   "metadata": {},
   "outputs": [],
   "source": [
    "def noisy_sphere_estimated_noise(x,scale=1.0):\n",
    "    \"\"\"Quadratic function with heteroskedastic noise; also return noise estimate.\"\"\"\n",
    "    x_2d = np.atleast_2d(x)\n",
    "    f = np.sum(x_2d**2, axis=1)\n",
    "    sigma = scale*(1.0 + np.sqrt(f))\n",
    "    y = f + sigma*np.random.normal(size=x_2d.shape[0])\n",
    "    return y, sigma\n",
    "\n",
    "x0 = np.array([-3, -3]);      # Starting point\n",
    "lb = np.array([-5, -5])       # Lower bounds\n",
    "ub = np.array([5, 5])         # Upper bounds\n",
    "plb = np.array([-2, -2])      # Plausible lower bounds\n",
    "pub = np.array([2, 2])        # Plausible upper bounds\n",
    "\n",
    "options = {\n",
    "    \"uncertainty_handling\": True,\n",
    "    \"specify_target_noise\": True,\n",
    "    \"noise_final_samples\": 100\n",
    "}"
   ]
  },
  {
   "cell_type": "markdown",
   "id": "363e280e",
   "metadata": {},
   "source": [
    "## 2. Run the optimization\n",
    "\n",
    "As usual, we run `bads` with the user-defined `options`."
   ]
  },
  {
   "cell_type": "code",
   "execution_count": 3,
   "id": "853bf3c9",
   "metadata": {},
   "outputs": [
    {
     "name": "stdout",
     "output_type": "stream",
     "text": [
      "Beginning optimization of a STOCHASTIC objective function (specified noise)\n",
      "\n",
      " Iteration    f-count      E[f(x)]        SD[f(x)]           MeshScale          Method              Actions\n",
      "     0           1         20.8213         5.24264               1                                  \n",
      "     0          33        -3.92626         5.24264               1          Initial mesh            Initial points\n",
      "     0          37        -3.92626         2.28341             0.5          Refine grid             Train\n",
      "     1          45        -3.92626         2.28341            0.25          Refine grid             Train\n",
      "     2          46       -0.473455        0.371227            0.25      Successful search (ES-wcm)        \n",
      "     2          47       -0.566978        0.352368            0.25      Incremental search (ES-wcm)        \n",
      "     2          48       -0.680171        0.336724            0.25      Incremental search (ES-wcm)        \n",
      "     2          57       -0.680171        0.336724           0.125          Refine grid             Train\n",
      "     3          58       -0.547329         0.25757           0.125      Successful search (ES-wcm)        \n",
      "     3          59       -0.556332        0.250129           0.125      Incremental search (ES-wcm)        \n",
      "     3          69       -0.556332        0.250129          0.0625          Refine grid             Train\n",
      "     4          77       -0.300539         0.20151         0.03125          Refine grid             Train\n",
      "     5          78       -0.154185        0.171315         0.03125      Successful search (ES-ell)        \n",
      "     5          81       -0.165515        0.164668         0.03125      Successful search (ES-wcm)        \n",
      "     5          82       -0.174879        0.162633         0.03125      Successful search (ES-ell)        \n",
      "     5          93       -0.174879        0.162633        0.015625          Refine grid             Train\n",
      "     6          94       -0.154021        0.142514        0.015625      Successful search (ES-ell)        \n",
      "     6          96       -0.154151        0.139886        0.015625      Incremental search (ES-ell)        \n",
      "     6         105       -0.154151        0.139886       0.0078125          Refine grid             \n",
      "     7         107      -0.0657242        0.127612       0.0078125      Successful search (ES-ell)        \n",
      "     7         117      -0.0679243        0.119033        0.015625        Successful poll           \n",
      "     8         118      -0.0710592        0.118069        0.015625      Successful search (ES-ell)        \n",
      "     8         129      -0.0710592        0.118069       0.0078125          Refine grid             \n",
      "     9         131      -0.0250962        0.109147       0.0078125      Successful search (ES-wcm)        \n",
      "     9         133      -0.0305824        0.107949       0.0078125      Successful search (ES-wcm)        \n",
      "     9         134      -0.0315605        0.107368       0.0078125      Incremental search (ES-ell)        \n",
      "     9         136      -0.0367935        0.106219       0.0078125      Successful search (ES-ell)        \n",
      "     9         145      -0.0367935        0.106219      0.00390625          Refine grid             Train\n",
      "    10         147       0.0103547        0.100497      0.00390625      Incremental search (ES-wcm)        \n",
      "    10         148      -0.0115855        0.100023      0.00390625      Successful search (ES-wcm)        \n",
      "    10         149      -0.0188982        0.099567      0.00390625      Successful search (ES-wcm)        \n",
      "    10         157      -0.0188982        0.099567      0.00195312          Refine grid             Train\n",
      "    11         161      -0.0040288       0.0944029      0.00195312      Incremental search (ES-ell)        \n",
      "    11         165      -0.0416693       0.0928435      0.00390625        Successful poll           \n",
      "    12         169      -0.0513433        0.091396      0.00390625      Successful search (ES-ell)        \n",
      "    12         177      -0.0513433        0.091396      0.00195312          Refine grid             Train\n",
      "    13         179      -0.0378445       0.0879801      0.00195312      Successful search (ES-ell)        \n",
      "    13         180      -0.0382848       0.0876614      0.00195312      Incremental search (ES-ell)        \n",
      "    13         181      -0.0424215       0.0873446      0.00195312      Successful search (ES-ell)        \n",
      "    13         183      -0.0659007       0.0867204      0.00195312      Successful search (ES-ell)        \n",
      "    13         184      -0.0661479       0.0864393      0.00195312      Incremental search (ES-ell)        \n",
      "    13         189      -0.0675397       0.0849346      0.00195312      Successful search (ES-ell)        \n",
      "    13         190      -0.0782359       0.0846554      0.00195312      Successful search (ES-ell)        \n",
      "    13         191      -0.0795408       0.0844039      0.00195312      Successful search (ES-ell)        \n",
      "    13         192      -0.0828663       0.0841267      0.00195312      Successful search (ES-ell)        \n",
      "    13         194      -0.0938681       0.0835348      0.00195312      Successful search (ES-ell)        \n",
      "    13         196       -0.101422       0.0830478      0.00195312      Successful search (ES-ell)        \n",
      "    13         205       -0.101422       0.0830478     0.000976562          Refine grid             \n",
      "    14         206      -0.0722539       0.0811483     0.000976562      Incremental search (ES-ell)        \n",
      "    14         207      -0.0760422       0.0812809     0.000976562      Successful search (ES-ell)        \n",
      "    14         210      -0.0943559        0.162324     0.000976562      Successful search (ES-ell)        \n",
      "    14         211        -0.11572        0.173793     0.000976562      Successful search (ES-ell)        \n",
      "    14         212       -0.121336        0.192327     0.000976562      Successful search (ES-ell)        \n",
      "    14         213       -0.197961        0.228073     0.000976562      Successful search (ES-wcm)        \n",
      "    14         214       -0.279028        0.239469     0.000976562      Successful search (ES-wcm)        \n",
      "    14         215       -0.295064        0.250058     0.000976562      Successful search (ES-ell)        \n",
      "    14         220        -0.33815        0.224846     0.000976562      Successful search (ES-wcm)        \n",
      "    14         223       -0.372845        0.215113     0.000976562      Successful search (ES-wcm)        \n",
      "    14         224       -0.384192        0.219433     0.000976562      Successful search (ES-wcm)        \n",
      "    14         233       -0.384192        0.219433     0.000488281          Refine grid             Train\n",
      "    15         234       -0.232079        0.142895     0.000488281      Successful search (ES-wcm)        \n",
      "    15         245       -0.232079        0.142895     0.000244141          Refine grid             Train\n",
      "    16         253       -0.461779        0.255429      0.00012207          Refine grid             Train\n",
      "    17         261       -0.874149        0.342566     6.10352e-05          Refine grid             Train\n",
      "    18         269       -0.291057        0.288403     3.05176e-05          Refine grid             Train\n",
      "    19         277       -0.106526        0.253806     1.52588e-05          Refine grid             Train\n",
      "    20         278       -0.177321        0.272089     1.52588e-05      Successful search (ES-wcm)        \n",
      "    20         280       -0.250988         0.25745     1.52588e-05      Successful search (ES-ell)        \n",
      "    20         289       -0.250988         0.25745     7.62939e-06          Refine grid             Train\n",
      "    21         297      -0.0896482       0.0808985      3.8147e-06          Refine grid             Train\n",
      "    22         305      -0.0767957       0.0806685     1.90735e-06          Refine grid             Train\n",
      "    23         306      -0.0724497       0.0815161     1.90735e-06      Incremental search (ES-ell)        \n",
      "    23         307      -0.0861417       0.0812839     1.90735e-06      Successful search (ES-ell)        \n",
      "    23         317      -0.0861417       0.0812839     9.53674e-07          Refine grid             \n",
      "Optimization terminated: mesh size less than options.tolmesh.\n",
      "Estimated function value at minimum: -0.045506167872442445 ± 0.10470361228432604 (mean ± SEM from 100 samples)\n"
     ]
    }
   ],
   "source": [
    "bads = BADS(noisy_sphere_estimated_noise, x0, lb, ub, plb, pub, options=options)\n",
    "optimize_result = bads.optimize()"
   ]
  },
  {
   "cell_type": "markdown",
   "id": "4a7af7d8",
   "metadata": {},
   "source": [
    "## 3. Results and conclusions\n",
    "\n",
    "As per noisy target optimization, `optimize_result['fval']` is the *estimated* function value at `optimize_result['x']`, here obtained by taking the *weighted* mean of the final sampled evaluations (each evaluation is weighted by its precision, or inverse variance).\n",
    "\n",
    "The final samples can be found in `optimize_result['yval_vec']`, and their estimated standard deviation in `optimize_result['ysd_vec']`."
   ]
  },
  {
   "cell_type": "code",
   "execution_count": 4,
   "id": "6507b31a",
   "metadata": {},
   "outputs": [
    {
     "name": "stdout",
     "output_type": "stream",
     "text": [
      "BADS minimum at: x_min = [0.06294441 0.02146149], fval (estimated) = -0.04551 +/- 0.1\n",
      "total f-count: 417, time: 15.68 s\n",
      "final evaluations (shape): (100,)\n",
      "final evaluations SD (shape): (100,)\n"
     ]
    }
   ],
   "source": [
    "x_min = optimize_result['x']\n",
    "fval = optimize_result['fval']\n",
    "fsd = optimize_result['fsd']\n",
    "\n",
    "print(f\"BADS minimum at: x_min = {x_min.flatten()}, fval (estimated) = {fval:.4g} +/- {fsd:.2g}\")\n",
    "print(f\"total f-count: {optimize_result['func_count']}, time: {round(optimize_result['total_time'], 2)} s\")\n",
    "print(f\"final evaluations (shape): {optimize_result['yval_vec'].shape}\")\n",
    "print(f\"final evaluations SD (shape): {optimize_result['ysd_vec'].shape}\")"
   ]
  },
  {
   "cell_type": "markdown",
   "id": "499c04d1",
   "metadata": {},
   "source": [
    "We can also check the ground-truth value of the target function at the returned point once we remove the noise:"
   ]
  },
  {
   "cell_type": "code",
   "execution_count": 5,
   "id": "17089c5d",
   "metadata": {},
   "outputs": [
    {
     "name": "stdout",
     "output_type": "stream",
     "text": [
      "The true, noiseless value of f(x_min) is 0.00442.\n"
     ]
    }
   ],
   "source": [
    "print(f\"The true, noiseless value of f(x_min) is {noisy_sphere_estimated_noise(x_min,scale=0)[0][0]:.3g}.\")"
   ]
  },
  {
   "cell_type": "markdown",
   "id": "d3ace561",
   "metadata": {},
   "source": [
    "Compare this to the true global minimum of the sphere function at $\\textbf{x}^\\star = [0,0]$, where $f^\\star = 0$.\n",
    "\n",
    "### Remarks\n",
    "\n",
    "- Due to the elevated level of noise, we do not necessarily expect high precision in the solution.\n",
    "\n",
    "- For more information on optimizing noisy objective functions, see the BADS wiki: https://github.com/acerbilab/bads/wiki#noisy-objective-function (this link points to the MATLAB wiki, but many of the questions and answers apply to PyBADS as well)."
   ]
  }
 ],
 "metadata": {
  "kernelspec": {
   "display_name": "Python 3 (ipykernel)",
   "language": "python",
   "name": "python3"
  },
  "language_info": {
   "codemirror_mode": {
    "name": "ipython",
    "version": 3
   },
   "file_extension": ".py",
   "mimetype": "text/x-python",
   "name": "python",
   "nbconvert_exporter": "python",
   "pygments_lexer": "ipython3",
   "version": "3.9.16"
  },
  "vscode": {
   "interpreter": {
    "hash": "5f12204c93c4274de084c6b76e73171147c8e51a8507bf20dfb1db4f14f6829f"
   }
  }
 },
 "nbformat": 4,
 "nbformat_minor": 5
}
