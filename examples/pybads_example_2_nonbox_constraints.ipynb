{
 "cells": [
  {
   "cell_type": "markdown",
   "id": "e48db32f",
   "metadata": {},
   "source": [
    "# PyBADS Example 2: Non-box constraints"
   ]
  },
  {
   "cell_type": "markdown",
   "id": "810b5d8b",
   "metadata": {},
   "source": [
    "In this example, we will show how to set more complex constraints in PyBADS, besides a simple bounded box.\n",
    "\n",
    "This notebook is Part 2 of a series of notebooks in which we present various example usages for BADS with the PyBADS package."
   ]
  },
  {
   "cell_type": "code",
   "execution_count": 1,
   "id": "d0c7306b",
   "metadata": {},
   "outputs": [],
   "source": [
    "import numpy as np\n",
    "from pybads.bads.bads import BADS"
   ]
  },
  {
   "cell_type": "markdown",
   "id": "ed499dff",
   "metadata": {},
   "source": [
    "## 0. Constrained optimization\n",
    "\n",
    "PyBADS naturally supports box constraints `lb` and `ub`, as we saw in the [previous example](./pybads_example_1_basic_usage.ipynb). However, some optimization problems might have more complex constraints over the variables. Formally, we may wish to solve the problem\n",
    "\n",
    "$$\n",
    "\\mathbf{x}^\\star = \\arg\\min_{\\mathbf{x} \\in \\mathcal{X}} f(\\mathbf{x})\n",
    "$$\n",
    "where $\\mathcal{X} \\subseteq \\mathbb{R}^D$ is the admissible region for the optimization.\n",
    "\n",
    "We can do this in PyBADS by providing a function `nonboxcons` that defines constraints *violation*, that is a function $g(\\mathbf{x})$ which returns `True` if $\\mathbf{x} \\notin \\mathcal{X}$, as demonstrated below."
   ]
  },
  {
   "cell_type": "markdown",
   "id": "fccd1931",
   "metadata": {},
   "source": [
    "## 1. Problem definition\n",
    "\n",
    "We optimize [Rosenbrock's banana function](https://en.wikipedia.org/wiki/Rosenbrock_function) in 2D as in the [previous example](./pybads_example_1_basic_usage.ipynb), but here we force the input to stay within a circle with unit radius.\n",
    "\n",
    "Since we know the optimization region, we set tight box bounds `lb` and `ub` around the circle to further help the search.\n",
    "\n",
    "Note that `nonboxcons` takes as input a $M$-by-$D$ array $\\mathbf{x}_1, \\ldots, \\mathbf{x}_M$, where each $\\mathbf{x} \\in \\mathbb{R}^D$, and outputs a $M$-by-1 `bool` array, where $M$ is an arbitrary number for the inputs. The $m$-th value of the output array is `True` if $\\mathbf{x}_m$ *violates* the constraint, `False` otherwise."
   ]
  },
  {
   "cell_type": "code",
   "execution_count": 2,
   "id": "192fbe30",
   "metadata": {},
   "outputs": [],
   "source": [
    "def rosenbrocks_fcn(x):\n",
    "    \"\"\"Rosenbrock's 'banana' function in any dimension.\"\"\"\n",
    "    x_2d = np.atleast_2d(x)\n",
    "    return np.sum(100 * (x_2d[:, 0:-1]**2 - x_2d[:, 1:])**2 + (x_2d[:, 0:-1]-1)**2, axis=1)\n",
    "\n",
    "x0 = np.array([[0, 0]]);      # Starting point\n",
    "lb = np.array([[-1, -1]])     # Lower bounds\n",
    "ub = np.array([[1, 1]])       # Upper bounds\n",
    "\n",
    "def circle_constr(x):\n",
    "    \"\"\"Return constraints violation outside the unit circle.\"\"\"\n",
    "    x_2d = np.atleast_2d(x)\n",
    "    # Note that nonboxcons assumes the function takes a 2D input \n",
    "    return np.sum(x_2d**2, axis=1) > 1"
   ]
  },
  {
   "cell_type": "markdown",
   "id": "363e280e",
   "metadata": {},
   "source": [
    "## 2. Run the optimization\n",
    "\n",
    "We initialize `bads` with the non-box constraints defined by `nonboxcons`. Note that we also still specify standard box constraints `lb` and `ub`, as this will help the search.\n",
    "\n",
    "Incidentally, here BADS will complain because the plausible bounds are not specified explicitly. In the absence of plausible bounds, BADS will create them based on the lower/upper bounds instead. Generally, you should specify the plausible bounds."
   ]
  },
  {
   "cell_type": "code",
   "execution_count": 3,
   "id": "853bf3c9",
   "metadata": {},
   "outputs": [
    {
     "name": "stdout",
     "output_type": "stream",
     "text": [
      "bads:TooCloseBounds: For each variable, hard and plausible bounds should not be too close. Moving plausible bounds.\n",
      "Variables (index) defined with periodic boundaries: []\n",
      "Beginning optimization of a DETERMINISTIC objective function\n",
      "\n",
      " Iteration f-count     f(x)     MeshScale     Method     Actions\n",
      "     0         3       1.000000      1.000000            Uncertainty test\n",
      "     0         7       1.000000      1.000000     Initial mesh       Initial points\n"
     ]
    },
    {
     "name": "stderr",
     "output_type": "stream",
     "text": [
      "c:\\users\\luigi\\documents\\github\\gpyreg\\gpyreg\\covariance_functions.py:376: RuntimeWarning: invalid value encountered in add\n",
      "  plausible_lower_bounds[i_nan] + plausible_upper_bounds[i_nan]\n"
     ]
    },
    {
     "name": "stdout",
     "output_type": "stream",
     "text": [
      "     0        11       1.000000      0.500000     Refine grid       Train\n",
      "     1        14       0.561451      0.500000     Successful search (('ES-ell', 1))       \n",
      "     1        19       0.299069      0.500000     Incremental search (('ES-wcm', 1))       \n",
      "     1        23       0.299069      0.250000     Refine grid       Train\n",
      "     2        25       0.085135      0.250000     Successful search (('ES-wcm', 1))       \n",
      "     2        26       0.000000      0.250000     Incremental search (('ES-wcm', 1))       \n",
      "     2        33       0.000000      0.125000     Refine grid       \n",
      "     3        39       0.000000      0.062500     Refine grid       \n"
     ]
    },
    {
     "name": "stderr",
     "output_type": "stream",
     "text": [
      "c:\\users\\luigi\\documents\\github\\pybads\\pybads\\bads\\bads.py:1760: RuntimeWarning: divide by zero encountered in true_divide\n",
      "  zscore = zscore / gp_ys\n"
     ]
    },
    {
     "name": "stdout",
     "output_type": "stream",
     "text": [
      "bads:_robust_gp_fit_: posterior GP update failed. Singular matrix for L Cholesky decomposition\n",
      "     4        45       0.000000      0.031250     Refine grid       \n",
      "     5        48       0.000000      0.031250     Incremental search (('ES-wcm', 1))       \n",
      "bads: The optimization is stalling, decreasing further the mesh size\n",
      "     5        51       0.000000      0.007812     Refine grid       \n"
     ]
    },
    {
     "name": "stderr",
     "output_type": "stream",
     "text": [
      "c:\\users\\luigi\\documents\\github\\pybads\\pybads\\bads\\bads.py:1555: RuntimeWarning: divide by zero encountered in true_divide\n",
      "  gamma_z = (self.optim_state['f_target'] - self.sufficient_improvement - f_mu) / fs\n"
     ]
    },
    {
     "name": "stdout",
     "output_type": "stream",
     "text": [
      "bads:_robust_gp_fit_: posterior GP update failed. Singular matrix for L Cholesky decomposition\n",
      "bads:_robust_gp_fit_: posterior GP update failed. Singular matrix for L Cholesky decomposition\n",
      "bads: The optimization is stalling, decreasing further the mesh size\n",
      "     6        57       0.000000      0.001953     Refine grid       \n",
      "Optimization terminated: change in the function value less than options.TolFun.\n",
      "Function value at minimum: 1.3359650640840094e-07\n",
      "\n"
     ]
    }
   ],
   "source": [
    "bads = BADS(rosenbrocks_fcn, x0, lb, ub, nonbondcons=circle_constr)\n",
    "x_min, fval = bads.optimize()"
   ]
  },
  {
   "cell_type": "markdown",
   "id": "4a7af7d8",
   "metadata": {},
   "source": [
    "## 3. Results and conclusions"
   ]
  },
  {
   "cell_type": "code",
   "execution_count": 4,
   "id": "6507b31a",
   "metadata": {},
   "outputs": [
    {
     "name": "stdout",
     "output_type": "stream",
     "text": [
      "BADS minimum at: x = [0.99998158 0.99999966], fval = 1.336e-07\n",
      "total f-count: 57, time: 3.58 s\n"
     ]
    }
   ],
   "source": [
    "print(f\"BADS minimum at: x = {x_min.flatten()}, fval = {fval:.4g}\")\n",
    "print(f\"total f-count: {bads.function_logger.func_count-1}, time: {round(bads.optim_state['total_time'], 2)} s\")"
   ]
  },
  {
   "cell_type": "markdown",
   "id": "d3ace561",
   "metadata": {},
   "source": [
    "The true global minimum of the Rosenbrock function under these constraints is at $\\textbf{x}^\\star = [0.786,0.618]$, where $f^\\star = 0.046$.\n",
    "\n",
    "### Remarks\n",
    "\n",
    "- While in theory `nonboxcons` can receive any arbitrary constraints, in practice PyBADS will likely work well only within relatively simple domains (e.g., simple convex regions), as the current version of (Py)BADS uses a simple heuristic to reject samples outside the admissible region.\n",
    "- In particular, PyBADS does *not* support equality constraints (e.g., of the form $x_1 + x_2 + x_3 = 1$)."
   ]
  },
  {
   "cell_type": "markdown",
   "id": "83320a21",
   "metadata": {},
   "source": [
    "## Example 2: Full code\n",
    "\n",
    "See [here](./src/pybads_example_2_nonbox_constraints.py) for a Python file with the code used in this example, with no extra fluff."
   ]
  }
 ],
 "metadata": {
  "kernelspec": {
   "display_name": "Python 3 (ipykernel)",
   "language": "python",
   "name": "python3"
  },
  "language_info": {
   "codemirror_mode": {
    "name": "ipython",
    "version": 3
   },
   "file_extension": ".py",
   "mimetype": "text/x-python",
   "name": "python",
   "nbconvert_exporter": "python",
   "pygments_lexer": "ipython3",
   "version": "3.9.7"
  }
 },
 "nbformat": 4,
 "nbformat_minor": 5
}
