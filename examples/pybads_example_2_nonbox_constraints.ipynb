{
 "cells": [
  {
   "cell_type": "markdown",
   "id": "e48db32f",
   "metadata": {},
   "source": [
    "# PyBADS Example 2: Non-box constraints"
   ]
  },
  {
   "cell_type": "markdown",
   "id": "810b5d8b",
   "metadata": {},
   "source": [
    "In this example, we will show how to set more complex constraints in PyBADS, besides a simple bounded box.\n",
    "\n",
    "This notebook is Part 2 of a series of notebooks in which we present various example usages for BADS with the PyBADS package."
   ]
  },
  {
   "cell_type": "code",
   "execution_count": 1,
   "id": "d0c7306b",
   "metadata": {},
   "outputs": [],
   "source": [
    "import numpy as np\n",
    "from pybads import BADS"
   ]
  },
  {
   "cell_type": "markdown",
   "id": "ed499dff",
   "metadata": {},
   "source": [
    "## 0. Constrained optimization\n",
    "\n",
    "PyBADS naturally supports box constraints `lb` and `ub`, as we saw in the [previous example](./pybads_example_1_basic_usage.ipynb). However, some optimization problems might have more complex constraints over the variables. Formally, we may wish to solve the problem\n",
    "\n",
    "$$\n",
    "\\mathbf{x}^\\star = \\arg\\min_{\\mathbf{x} \\in \\mathcal{X}} f(\\mathbf{x})\n",
    "$$\n",
    "where $\\mathcal{X} \\subseteq \\mathbb{R}^D$ is the admissible region for the optimization.\n",
    "\n",
    "We can do this in PyBADS by providing a function `non_box_cons` that defines constraints *violation*, that is a function $g(\\mathbf{x})$ which returns `True` if $\\mathbf{x} \\notin \\mathcal{X}$ (and `False` otherwise), as demonstrated below."
   ]
  },
  {
   "cell_type": "markdown",
   "id": "fccd1931",
   "metadata": {},
   "source": [
    "## 1. Problem setup\n",
    "\n",
    "We optimize [Rosenbrock's banana function](https://en.wikipedia.org/wiki/Rosenbrock_function) in 2D as in the [previous example](./pybads_example_1_basic_usage.ipynb), but here we force the input to stay within a circle with unit radius.\n",
    "\n",
    "Since we know the optimization region, we set tight box bounds `lb` and `ub` around the circle. This step is not necessary, but it will further help the search.\n",
    "\n",
    "The function passed to `non_box_cons`: \n",
    "- takes as input an array $\\mathbf{x}_1, \\ldots, \\mathbf{x}_M$ with shape `(M, D)`, where each $\\mathbf{x}_m \\in \\mathbb{R}^D$;\n",
    "- outputs a `bool` array with shape `(M, 1)`, where the $m$-th value is `True` if $\\mathbf{x}_m$ *violates* the constraint, `False` otherwise ($M$ is an arbitrary number of inputs)."
   ]
  },
  {
   "cell_type": "code",
   "execution_count": 2,
   "id": "192fbe30",
   "metadata": {},
   "outputs": [],
   "source": [
    "def rosenbrocks_fcn(x):\n",
    "    \"\"\"Rosenbrock's 'banana' function in any dimension.\"\"\"\n",
    "    x_2d = np.atleast_2d(x)\n",
    "    return np.sum(100 * (x_2d[:, 0:-1]**2 - x_2d[:, 1:])**2 + (x_2d[:, 0:-1]-1)**2, axis=1)\n",
    "\n",
    "x0 = np.array([0, 0]);      # Starting point\n",
    "lb = np.array([-1, -1])     # Lower bounds\n",
    "ub = np.array([1, 1])       # Upper bounds\n",
    "\n",
    "def circle_constr(x):\n",
    "    \"\"\"Return constraints violation outside the unit circle.\"\"\"\n",
    "    x_2d = np.atleast_2d(x)\n",
    "    # Note that nonboxcons assumes the function takes a 2D input \n",
    "    return np.sum(x_2d**2, axis=1) > 1."
   ]
  },
  {
   "cell_type": "markdown",
   "id": "363e280e",
   "metadata": {},
   "source": [
    "## 2. Run the optimization\n",
    "\n",
    "We initialize `bads` with the non-box constraints defined by `non_box_cons`. Note that we also still specify standard box constraints `lb` and `ub`, as this will help the search.\n",
    "\n",
    "Here BADS will complain because we did not specify the plausible bounds explicitly. In the absence of plausible bounds, BADS will create them based on the lower/upper bounds instead. As a general rule, it is strongly recommended to specify the plausible bounds."
   ]
  },
  {
   "cell_type": "code",
   "execution_count": 3,
   "id": "853bf3c9",
   "metadata": {},
   "outputs": [
    {
     "name": "stdout",
     "output_type": "stream",
     "text": [
      "bads:TooCloseBounds: For each variable, hard and plausible bounds should not be too close. Moving plausible bounds.\n",
      "Beginning optimization of a DETERMINISTIC objective function\n",
      "\n",
      " Iteration    f-count         f(x)           MeshScale          Method             Actions\n",
      "     0           2               1               1                                 Uncertainty test\n",
      "     0           5               1               1         Initial mesh            Initial points\n",
      "     0           9               1             0.5         Refine grid             Train\n",
      "     1          13        0.767214             0.5     Incremental search (ES-wcm)        \n",
      "     1          17        0.767214            0.25         Refine grid             Train\n",
      "     2          19        0.580625            0.25     Successful search (ES-ell)        \n",
      "     2          20        0.401071            0.25     Successful search (ES-ell)        \n",
      "     2          23        0.231718            0.25     Successful search (ES-wcm)        \n",
      "     2          24        0.136006            0.25     Incremental search (ES-wcm)        \n",
      "     2          25       0.0459402            0.25     Incremental search (ES-ell)        \n",
      "     2          31       0.0459402           0.125         Refine grid             \n",
      "     3          35       0.0457466           0.125     Incremental search (ES-wcm)        \n",
      "     3          37       0.0457466          0.0625         Refine grid             \n",
      "     4          43       0.0457466         0.03125         Refine grid             \n",
      "     5          44       0.0457105         0.03125     Incremental search (ES-ell)        \n",
      "     5          49       0.0457105       0.0078125         Refine grid             \n",
      "     6          50       0.0456749       0.0078125     Incremental search (ES-wcm)        \n",
      "     6          55       0.0456749      0.00195312         Refine grid             \n",
      "Optimization terminated: change in the function value less than options.TolFun.\n",
      "Function value at minimum: 0.04567486581177021\n",
      "\n"
     ]
    }
   ],
   "source": [
    "bads = BADS(rosenbrocks_fcn, x0, lb, ub, non_box_cons=circle_constr)\n",
    "optimize_result = bads.optimize()"
   ]
  },
  {
   "cell_type": "markdown",
   "id": "4a7af7d8",
   "metadata": {},
   "source": [
    "## 3. Results and conclusions"
   ]
  },
  {
   "cell_type": "code",
   "execution_count": 4,
   "id": "6507b31a",
   "metadata": {},
   "outputs": [
    {
     "name": "stdout",
     "output_type": "stream",
     "text": [
      "BADS minimum at: x_min = [0.78642143 0.61769016], fval = 0.04567\n",
      "total f-count: 56, time: 2.91 s\n",
      "Problem type: non-box constraints\n"
     ]
    }
   ],
   "source": [
    "x_min = optimize_result['x']\n",
    "fval = optimize_result['fval']\n",
    "\n",
    "print(f\"BADS minimum at: x_min = {x_min.flatten()}, fval = {fval:.4g}\")\n",
    "print(f\"total f-count: {optimize_result['func_count']}, time: {round(optimize_result['total_time'], 2)} s\")\n",
    "print(f\"Problem type: {optimize_result['problem_type']}\")"
   ]
  },
  {
   "cell_type": "markdown",
   "id": "d3ace561",
   "metadata": {},
   "source": [
    "The true global minimum of the Rosenbrock function under these constraints is at $\\textbf{x}^\\star = [0.786,0.618]$, where $f^\\star = 0.0457$.\n",
    "\n",
    "### Remarks\n",
    "\n",
    "- While in theory `non_box_cons` can receive any arbitrary constraints, in practice PyBADS will likely work well only within relatively simple domains (e.g., simple convex regions), as the current version of (Py)BADS uses a simple heuristic to reject samples outside the admissible region.\n",
    "- In particular, PyBADS does *not* support equality constraints (e.g., of the form $x_1 + x_2 + x_3 = 1$)."
   ]
  },
  {
   "cell_type": "markdown",
   "id": "83320a21",
   "metadata": {},
   "source": [
    "## Example 2: Full code\n",
    "\n",
    "See [here](./scripts/pybads_example_2_nonbox_constraints.py) for a Python file with the code used in this example, with no extra fluff."
   ]
  }
 ],
 "metadata": {
  "kernelspec": {
   "display_name": "Python 3.10.4 ('pybads-dev')",
   "language": "python",
   "name": "python3"
  },
  "language_info": {
   "codemirror_mode": {
    "name": "ipython",
    "version": 3
   },
   "file_extension": ".py",
   "mimetype": "text/x-python",
   "name": "python",
   "nbconvert_exporter": "python",
   "pygments_lexer": "ipython3",
   "version": "3.10.4"
  },
  "vscode": {
   "interpreter": {
    "hash": "5f12204c93c4274de084c6b76e73171147c8e51a8507bf20dfb1db4f14f6829f"
   }
  }
 },
 "nbformat": 4,
 "nbformat_minor": 5
}
