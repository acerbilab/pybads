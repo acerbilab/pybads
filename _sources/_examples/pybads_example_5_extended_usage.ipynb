{
 "cells": [
  {
   "cell_type": "markdown",
   "id": "e48db32f",
   "metadata": {},
   "source": [
    "# PyBADS Example 5: Extended usage"
   ]
  },
  {
   "cell_type": "markdown",
   "id": "810b5d8b",
   "metadata": {},
   "source": [
    "In this example, we will show PyBADS at work on a multimodal target and showcase some additional features.\n",
    "\n",
    "This notebook is Part 5 of a series of notebooks in which we present various example usages for BADS with the PyBADS package."
   ]
  },
  {
   "cell_type": "code",
   "execution_count": 1,
   "id": "d0c7306b",
   "metadata": {},
   "outputs": [],
   "source": [
    "import numpy as np\n",
    "from pybads import BADS"
   ]
  },
  {
   "cell_type": "markdown",
   "id": "fccd1931",
   "metadata": {},
   "source": [
    "## 1. Problem setup\n",
    "\n",
    "In this example, we are going to optimize the *six-hump camelback function*, which has six local minima, two of which are global minima.\n",
    "\n",
    "Note that, in most realistic scenarios, you would not know whether your problem has only a single local minimum (which is also the global minimum). In practice, many optimization problems exhibit *multiple* local minima."
   ]
  },
  {
   "cell_type": "code",
   "execution_count": 2,
   "id": "192fbe30",
   "metadata": {},
   "outputs": [],
   "source": [
    "def camelback6(x):\n",
    "    \"\"\"Six-hump camelback function.\"\"\"\n",
    "    x_2d = np.atleast_2d(x)\n",
    "    x1 = x_2d[:,0]\n",
    "    x2 = x_2d[:,1]\n",
    "    f = (4 - 2.1*(x1*x1) + (x1*x1*x1*x1)/3.0)*(x1*x1) + x1*x2 + (-4 + 4*(x2*x2))*(x2*x2)\n",
    "    return f\n",
    "\n",
    "lb = np.array([-3, -2])       # Lower bounds\n",
    "ub = np.array([3, 2])         # Upper bounds\n",
    "plb = np.array([-2.9, -1.9])  # Plausible lower bounds\n",
    "pub = np.array([2.9, 1.9])    # Plausible upper bounds\n",
    "\n",
    "options = {\n",
    "    \"display\" : 'off',             # We switch off the printing\n",
    "    \"uncertainty_handling\": False, # Good to specify that this is a deterministic function\n",
    "}"
   ]
  },
  {
   "cell_type": "markdown",
   "id": "363e280e",
   "metadata": {},
   "source": [
    "## 2. Run the optimization\n",
    "\n",
    "PyBADS is not a global optimization algorithm in that there is no guarantee that a single run would return the global optimum (in fact, this is true of almost all algorithms). The gold rule of optimization, regardless of optimization algorithm, is to always rerun the optimization multiple times from different starting points (a multi-start strategy), to explore the landscape of the target and gain some confidence about the results.\n",
    "\n",
    "Below, we rerun PyBADS `num_opts` times from different starting points and store the results of each run, which we will examine later. Note that we switched off PyBADS default printing.\n",
    "\n",
    "Also note that each optimization uses a different `BADS` object (the general rule is: one BADS instance per optimization)."
   ]
  },
  {
   "cell_type": "code",
   "execution_count": 3,
   "id": "853bf3c9",
   "metadata": {},
   "outputs": [
    {
     "name": "stdout",
     "output_type": "stream",
     "text": [
      "Running optimization 0...\n",
      "Running optimization 1...\n",
      "Running optimization 2...\n"
     ]
    },
    {
     "name": "stderr",
     "output_type": "stream",
     "text": [
      "/home/jeet/miniconda3/envs/pybads-dev/lib/python3.10/site-packages/scipy/stats/_morestats.py:1789: RuntimeWarning: invalid value encountered in subtract\n",
      "  x = x - np.median(x)\n"
     ]
    },
    {
     "name": "stdout",
     "output_type": "stream",
     "text": [
      "Running optimization 3...\n",
      "Running optimization 4...\n",
      "Running optimization 5...\n",
      "Running optimization 6...\n",
      "Running optimization 7...\n",
      "Running optimization 8...\n",
      "Running optimization 9...\n"
     ]
    }
   ],
   "source": [
    "num_opts = 10\n",
    "optimize_results = []\n",
    "x_vec = np.zeros((num_opts,lb.shape[0]))\n",
    "fval_vec = np.zeros(num_opts)\n",
    "\n",
    "for opt_count in range(num_opts):\n",
    "    print('Running optimization ' + str(opt_count) + '...')\n",
    "    x0 = np.random.uniform(low=plb, high=pub)\n",
    "    bads = BADS(camelback6, x0, lb, ub, plb, pub, options=options)\n",
    "    optimize_results.append(bads.optimize())\n",
    "    x_vec[opt_count] = optimize_results[opt_count].x\n",
    "    fval_vec[opt_count] = optimize_results[opt_count].fval"
   ]
  },
  {
   "cell_type": "markdown",
   "id": "4a7af7d8",
   "metadata": {},
   "source": [
    "## 3. Results and conclusions\n",
    "\n",
    "First, we inspect the results. In this example, the target function has two equally-good solutions, \n",
    "$$\n",
    "x^\\star = \\left\\{ (0.0898, -0.7126), (-0.0898, 0.7126) \\right\\}, \\qquad f(x^\\star) = -1.0316\n",
    "$$\n",
    "which should be represented in the set of results. \n",
    "\n",
    "Importantly, we should find below that (almost) all solutions are very close in function value, suggesting that we found the minimizers of the target."
   ]
  },
  {
   "cell_type": "code",
   "execution_count": 4,
   "id": "b7af9c08",
   "metadata": {},
   "outputs": [
    {
     "name": "stdout",
     "output_type": "stream",
     "text": [
      "Found solutions:\n",
      "[[-0.088363    0.71202897]\n",
      " [-0.08937492  0.71252174]\n",
      " [ 0.09027936 -0.71363788]\n",
      " [ 0.08980637 -0.71252174]\n",
      " [-0.0888812   0.71267469]\n",
      " [-0.0895537   0.71308493]\n",
      " [-0.08965201  0.71412195]\n",
      " [-0.08988068  0.71264689]\n",
      " [ 0.0897425  -0.71266455]\n",
      " [-0.09000549  0.71264496]]\n",
      "Function values at solutions:\n",
      "[-1.03161763 -1.03162752 -1.03162024 -1.0316283  -1.03162483 -1.0316265\n",
      " -1.03161041 -1.03162845 -1.03162841 -1.03162835]\n"
     ]
    }
   ],
   "source": [
    "print('Found solutions:')\n",
    "print(x_vec)\n",
    "\n",
    "print('Function values at solutions:')\n",
    "print(fval_vec)"
   ]
  },
  {
   "cell_type": "markdown",
   "id": "9834d1d4",
   "metadata": {},
   "source": [
    "We now take the best result of the optimization:"
   ]
  },
  {
   "cell_type": "code",
   "execution_count": 5,
   "id": "6507b31a",
   "metadata": {},
   "outputs": [
    {
     "name": "stdout",
     "output_type": "stream",
     "text": [
      "BADS minimum at x_min = [-0.08988068  0.71264689]\n",
      "Function value at minimum fval = -1.0316284465531482\n"
     ]
    }
   ],
   "source": [
    "idx_best = np.argmin(fval_vec)\n",
    "result_best = optimize_results[idx_best]\n",
    "\n",
    "x_min = result_best['x']\n",
    "fval = result_best['fval']\n",
    "\n",
    "print(f\"BADS minimum at x_min = {x_min.flatten()}\")\n",
    "print(f\"Function value at minimum fval = {fval}\")"
   ]
  },
  {
   "cell_type": "markdown",
   "id": "d3ace561",
   "metadata": {},
   "source": [
    "The best result indeed matches $f^\\star = -1.0316$.\n",
    "\n",
    "The `OptimizeResult` object returned by PyBADS contains further information about the run:"
   ]
  },
  {
   "cell_type": "code",
   "execution_count": 6,
   "id": "3eebe659",
   "metadata": {},
   "outputs": [
    {
     "data": {
      "text/plain": [
       "{'fun': <function __main__.camelback6(x)>,\n",
       " 'non_box_cons': None,\n",
       " 'target_type': 'deterministic',\n",
       " 'problem_type': 'bound constraints',\n",
       " 'iterations': 10,\n",
       " 'func_count': 93,\n",
       " 'mesh_size': 0.000244140625,\n",
       " 'overhead': 1071.5030670489548,\n",
       " 'algorithm': 'Bayesian adaptive direct search',\n",
       " 'yval_vec': None,\n",
       " 'ysd_vec': None,\n",
       " 'x0': array([[2.84035495, 0.37700157]]),\n",
       " 'x': array([-0.08988068,  0.71264689]),\n",
       " 'fval': -1.0316284465531482,\n",
       " 'fsd': 0,\n",
       " 'total_time': 4.9732985506521,\n",
       " 'success': True,\n",
       " 'random_seed': None,\n",
       " 'version': '0.0.1',\n",
       " 'message': 'Optimization terminated: change in the function value less than options.TolFun.'}"
      ]
     },
     "execution_count": 6,
     "metadata": {},
     "output_type": "execute_result"
    }
   ],
   "source": [
    "result_best"
   ]
  },
  {
   "cell_type": "markdown",
   "id": "83320a21",
   "metadata": {},
   "source": [
    "## Example 5: Full code\n",
    "\n",
    "See [here](./scripts/pybads_example_5_extended_usage.py) for a Python file with the code used in this example, with no extra fluff."
   ]
  }
 ],
 "metadata": {
  "kernelspec": {
   "display_name": "Python 3.10.4 ('pybads-dev')",
   "language": "python",
   "name": "python3"
  },
  "language_info": {
   "codemirror_mode": {
    "name": "ipython",
    "version": 3
   },
   "file_extension": ".py",
   "mimetype": "text/x-python",
   "name": "python",
   "nbconvert_exporter": "python",
   "pygments_lexer": "ipython3",
   "version": "3.10.4"
  },
  "vscode": {
   "interpreter": {
    "hash": "5f12204c93c4274de084c6b76e73171147c8e51a8507bf20dfb1db4f14f6829f"
   }
  }
 },
 "nbformat": 4,
 "nbformat_minor": 5
}
