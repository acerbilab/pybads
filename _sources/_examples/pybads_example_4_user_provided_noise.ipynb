{
 "cells": [
  {
   "cell_type": "markdown",
   "id": "e48db32f",
   "metadata": {},
   "source": [
    "# PyBADS Example 4: Noisy objective with user-provided noise estimates"
   ]
  },
  {
   "cell_type": "markdown",
   "id": "810b5d8b",
   "metadata": {},
   "source": [
    "In this example, we will show how to run PyBADS on a noisy target for which we can estimate the noise at each evaluation.\n",
    "\n",
    "This notebook is Part 4 of a series of notebooks in which we present various example usages for BADS with the PyBADS package."
   ]
  },
  {
   "cell_type": "code",
   "execution_count": 1,
   "id": "d0c7306b",
   "metadata": {},
   "outputs": [],
   "source": [
    "import numpy as np\n",
    "from pybads import BADS"
   ]
  },
  {
   "cell_type": "markdown",
   "id": "fccd1931",
   "metadata": {},
   "source": [
    "## 1. Problem setup\n",
    "\n",
    "We assume you are already familiar with optimization of noisy targets with PyBADS, as described in the [previous notebook](./pybads_example_3_noisy_objective.ipynb).\n",
    "\n",
    "Sometimes, you may be able to estimate the noise associated with *each* function evaluation, for example via bootstrap or more sophisticated estimation methods. If you can do that, it is highly recommended you do so and tell PyBADS by activating the `specify_target_noise` option.\n",
    "\n",
    "In the user-specified noise case, the target function `fun` is expected to return *two* outputs: \n",
    "- the noisy estimate of the function at `x` (as usual); \n",
    "- the estimate of the *standard deviation* of the noisy evaluation at `x`.\n",
    "\n",
    "In this toy example below, we know the standard deviation `sigma` by construction. Note that the function is *heteroskedastic*, that is, the noise depends on the input location `x`."
   ]
  },
  {
   "cell_type": "code",
   "execution_count": 2,
   "id": "192fbe30",
   "metadata": {},
   "outputs": [],
   "source": [
    "def noisy_sphere_estimated_noise(x,scale=1.0):\n",
    "    \"\"\"Quadratic function with heteroskedastic noise; also return noise estimate.\"\"\"\n",
    "    x_2d = np.atleast_2d(x)\n",
    "    f = np.sum(x_2d**2, axis=1)\n",
    "    sigma = scale*(1.0 + np.sqrt(f))\n",
    "    y = f + sigma*np.random.normal(size=x_2d.shape[0])\n",
    "    return y, sigma\n",
    "\n",
    "x0 = np.array([-3, -3]);      # Starting point\n",
    "lb = np.array([-5, -5])       # Lower bounds\n",
    "ub = np.array([5, 5])         # Upper bounds\n",
    "plb = np.array([-2, -2])      # Plausible lower bounds\n",
    "pub = np.array([2, 2])        # Plausible upper bounds\n",
    "\n",
    "options = {\n",
    "    \"uncertainty_handling\": True,\n",
    "    \"specify_target_noise\": True,\n",
    "    \"noise_final_samples\": 100\n",
    "}"
   ]
  },
  {
   "cell_type": "markdown",
   "id": "363e280e",
   "metadata": {},
   "source": [
    "## 2. Run the optimization\n",
    "\n",
    "As usual, we run `bads` with the user-defined `options`."
   ]
  },
  {
   "cell_type": "code",
   "execution_count": 3,
   "id": "853bf3c9",
   "metadata": {},
   "outputs": [
    {
     "name": "stdout",
     "output_type": "stream",
     "text": [
      "Beginning optimization of a STOCHASTIC objective function (specified noise)\n",
      "\n",
      " Iteration    f-count      E[f(x)]        SD[f(x)]           MeshScale          Method              Actions\n",
      "     0           1         16.7501         5.24264               1                                  \n",
      "     0          33        -3.06732         5.24264               1          Initial mesh            Initial points\n",
      "     0          37        -3.06732         2.34011             0.5          Refine grid             Train\n",
      "     1          45        -3.06732         2.34011            0.25          Refine grid             Train\n",
      "     2          46        -1.14815        0.690188            0.25      Successful search (ES-wcm)        \n",
      "     2          57        -1.14815        0.690188           0.125          Refine grid             Train\n",
      "     3          60       -0.943121        0.616439           0.125      Incremental search (ES-wcm)        \n",
      "     3          65       -0.943121        0.616439          0.0625          Refine grid             \n",
      "     4          73       -0.867326        0.565913         0.03125          Refine grid             \n",
      "     5          74       -0.860749        0.413042         0.03125      Successful search (ES-wcm)        \n",
      "     5          77       -0.935279        0.349014         0.03125      Successful search (ES-ell)        \n",
      "     5          85       -0.935279        0.349014        0.015625          Refine grid             \n",
      "     6          93       -0.736663        0.266592       0.0078125          Refine grid             Train\n",
      "     7          94       -0.585475        0.253256       0.0078125      Successful search (ES-ell)        \n",
      "     7          95       -0.624393        0.272181       0.0078125      Successful search (ES-ell)        \n",
      "     7         105       -0.624393        0.272181      0.00390625          Refine grid             \n",
      "     8         113       -0.375658        0.191345      0.00195312          Refine grid             Train\n",
      "     9         121       -0.321104        0.160472      0.00390625        Successful poll           Train\n",
      "    10         123       -0.350864        0.153459      0.00390625      Successful search (ES-ell)        \n",
      "    10         133       -0.350864        0.153459      0.00195312          Refine grid             Train\n",
      "    11         141       -0.285307        0.212967     0.000976562          Refine grid             Train\n",
      "    12         149       -0.223881         0.20821     0.000488281          Refine grid             Train\n",
      "    13         157       -0.170238        0.128325     0.000244141          Refine grid             Train\n",
      "Optimization terminated: change in the function value less than options.TolFun.\n",
      "Estimated function value at minimum: 0.046596422518582384 ± 0.1070371306603499 (mean ± SEM from 100 samples)\n"
     ]
    }
   ],
   "source": [
    "bads = BADS(noisy_sphere_estimated_noise, x0, lb, ub, plb, pub, options=options)\n",
    "optimize_result = bads.optimize()"
   ]
  },
  {
   "cell_type": "markdown",
   "id": "4a7af7d8",
   "metadata": {},
   "source": [
    "## 3. Results and conclusions\n",
    "\n",
    "As per noisy target optimization, `optimize_result['fval']` is the *estimated* function value at `optimize_result['x']`, here obtained by taking the *weighted* mean of the final sampled evaluations (each evaluation is weighted by its precision, or inverse variance).\n",
    "\n",
    "The final samples can be found in `optimize_result['yval_vec']`, and their estimated standard deviation in `optimize_result['ysd_vec']`."
   ]
  },
  {
   "cell_type": "code",
   "execution_count": 4,
   "id": "6507b31a",
   "metadata": {},
   "outputs": [
    {
     "name": "stdout",
     "output_type": "stream",
     "text": [
      "BADS minimum at: x_min = [ 0.03811932 -0.13176525], fval (estimated) = 0.0466 +/- 0.11\n",
      "total f-count: 258, time: 19.66 s\n",
      "final evaluations (shape): (100,)\n",
      "final evaluations SD (shape): (100,)\n"
     ]
    }
   ],
   "source": [
    "x_min = optimize_result['x']\n",
    "fval = optimize_result['fval']\n",
    "fsd = optimize_result['fsd']\n",
    "\n",
    "print(f\"BADS minimum at: x_min = {x_min.flatten()}, fval (estimated) = {fval:.4g} +/- {fsd:.2g}\")\n",
    "print(f\"total f-count: {optimize_result['func_count']}, time: {round(optimize_result['total_time'], 2)} s\")\n",
    "print(f\"final evaluations (shape): {optimize_result['yval_vec'].shape}\")\n",
    "print(f\"final evaluations SD (shape): {optimize_result['ysd_vec'].shape}\")"
   ]
  },
  {
   "cell_type": "markdown",
   "id": "499c04d1",
   "metadata": {},
   "source": [
    "We can also check the ground-truth value of the target function at the returned point once we remove the noise:"
   ]
  },
  {
   "cell_type": "code",
   "execution_count": 5,
   "id": "17089c5d",
   "metadata": {},
   "outputs": [
    {
     "name": "stdout",
     "output_type": "stream",
     "text": [
      "The true, noiseless value of f(x_min) is 0.0188.\n"
     ]
    }
   ],
   "source": [
    "print(f\"The true, noiseless value of f(x_min) is {noisy_sphere_estimated_noise(x_min,scale=0)[0][0]:.3g}.\")"
   ]
  },
  {
   "cell_type": "markdown",
   "id": "d3ace561",
   "metadata": {},
   "source": [
    "Compare this to the true global minimum of the sphere function at $\\textbf{x}^\\star = [0,0]$, where $f^\\star = 0$.\n",
    "\n",
    "### Remarks\n",
    "\n",
    "- Due to the elevated level of noise, we do not necessarily expect high precision in the solution.\n",
    "\n",
    "- For more information on optimizing noisy objective functions, see the BADS wiki: https://github.com/acerbilab/bads/wiki#noisy-objective-function (this link points to the MATLAB wiki, but many of the questions and answers apply to PyBADS as well)."
   ]
  },
  {
   "cell_type": "markdown",
   "id": "83320a21",
   "metadata": {},
   "source": [
    "## Example 4: Full code\n",
    "\n",
    "See [here](./scripts/pybads_example_4_user_provided_noise.py) for a Python file with the code used in this example, with no extra fluff."
   ]
  }
 ],
 "metadata": {
  "kernelspec": {
   "display_name": "Python 3.10.4 ('pybads-dev')",
   "language": "python",
   "name": "python3"
  },
  "language_info": {
   "codemirror_mode": {
    "name": "ipython",
    "version": 3
   },
   "file_extension": ".py",
   "mimetype": "text/x-python",
   "name": "python",
   "nbconvert_exporter": "python",
   "pygments_lexer": "ipython3",
   "version": "3.10.4"
  },
  "vscode": {
   "interpreter": {
    "hash": "5f12204c93c4274de084c6b76e73171147c8e51a8507bf20dfb1db4f14f6829f"
   }
  }
 },
 "nbformat": 4,
 "nbformat_minor": 5
}
